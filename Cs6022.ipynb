{
  "nbformat": 4,
  "nbformat_minor": 0,
  "metadata": {
    "colab": {
      "name": "Untitled9.ipynb",
      "provenance": [],
      "collapsed_sections": [],
      "authorship_tag": "ABX9TyNuSeVqMZyq8Ft+r1QpR3xt",
      "include_colab_link": true
    },
    "kernelspec": {
      "name": "python3",
      "display_name": "Python 3"
    },
    "language_info": {
      "name": "python"
    }
  },
  "cells": [
    {
      "cell_type": "markdown",
      "metadata": {
        "id": "view-in-github",
        "colab_type": "text"
      },
      "source": [
        "<a href=\"https://colab.research.google.com/github/nikithajain888/tracker-api/blob/main/Cs6022.ipynb\" target=\"_parent\"><img src=\"https://colab.research.google.com/assets/colab-badge.svg\" alt=\"Open In Colab\"/></a>"
      ]
    },
    {
      "cell_type": "code",
      "execution_count": 8,
      "metadata": {
        "id": "E94_av1PkNoF"
      },
      "outputs": [],
      "source": [
        "import pandas as pd\n",
        "import operator\n",
        "import json\n",
        "from itertools import islice\n",
        "from heapq import nlargest\n",
        "import re\n",
        "from collections import defaultdict"
      ]
    },
    {
      "cell_type": "markdown",
      "source": [
        "Users data "
      ],
      "metadata": {
        "id": "bilXxQZyK4OE"
      }
    },
    {
      "cell_type": "code",
      "source": [
        "unames = ['user_id', 'gender', 'age', 'occupation', 'zip']\n",
        "users = pd.read_table('/users.dat', sep='::', header=None, names=unames, engine='python')\n",
        "print(users[:5])"
      ],
      "metadata": {
        "colab": {
          "base_uri": "https://localhost:8080/",
          "height": 0
        },
        "id": "H5--gAgjkigP",
        "outputId": "272f3a0c-7a9f-429e-8339-5c4bf05bcb0b"
      },
      "execution_count": 11,
      "outputs": [
        {
          "output_type": "stream",
          "name": "stdout",
          "text": [
            "   user_id gender  age  occupation    zip\n",
            "0        1      F    1          10  48067\n",
            "1        2      M   56          16  70072\n",
            "2        3      M   25          15  55117\n",
            "3        4      M   45           7  02460\n",
            "4        5      M   25          20  55455\n"
          ]
        }
      ]
    },
    {
      "cell_type": "markdown",
      "source": [
        "Ratings data"
      ],
      "metadata": {
        "id": "eZ9twUgxK82j"
      }
    },
    {
      "cell_type": "code",
      "source": [
        "rnames = ['user_id', 'movie_id', 'rating', 'timestamp']\n",
        "ratings = pd.read_table('/ratings.dat', sep='::', header=None, names=rnames, engine='python')\n",
        "print(ratings[:5])"
      ],
      "metadata": {
        "colab": {
          "base_uri": "https://localhost:8080/",
          "height": 0
        },
        "id": "ALnimSgcBza-",
        "outputId": "276e5bfd-e10f-41a0-e941-033764be9d64"
      },
      "execution_count": 12,
      "outputs": [
        {
          "output_type": "stream",
          "name": "stdout",
          "text": [
            "   user_id  movie_id  rating  timestamp\n",
            "0        1      1193       5  978300760\n",
            "1        1       661       3  978302109\n",
            "2        1       914       3  978301968\n",
            "3        1      3408       4  978300275\n",
            "4        1      2355       5  978824291\n"
          ]
        }
      ]
    },
    {
      "cell_type": "markdown",
      "source": [
        "Movies data"
      ],
      "metadata": {
        "id": "tZP9qQxsK_hC"
      }
    },
    {
      "cell_type": "code",
      "source": [
        "mnames = ['movie_id', 'title', 'genres']\n",
        "movies = pd.read_table('/movies.dat', sep='::', header=None, names=mnames, engine='python',encoding='latin-1')\n",
        "print(movies[:5])"
      ],
      "metadata": {
        "colab": {
          "base_uri": "https://localhost:8080/",
          "height": 0
        },
        "id": "Ocoj5JEpB148",
        "outputId": "5f83d5f4-10a1-48f2-ae5b-b68f5501c6bb"
      },
      "execution_count": 13,
      "outputs": [
        {
          "output_type": "stream",
          "name": "stdout",
          "text": [
            "   movie_id                               title                        genres\n",
            "0         1                    Toy Story (1995)   Animation|Children's|Comedy\n",
            "1         2                      Jumanji (1995)  Adventure|Children's|Fantasy\n",
            "2         3             Grumpier Old Men (1995)                Comedy|Romance\n",
            "3         4            Waiting to Exhale (1995)                  Comedy|Drama\n",
            "4         5  Father of the Bride Part II (1995)                        Comedy\n"
          ]
        }
      ]
    },
    {
      "cell_type": "markdown",
      "source": [
        "Merge data table of Ratings, Users, Movies and print the length of the dataset."
      ],
      "metadata": {
        "id": "b5cbfm5YLEZa"
      }
    },
    {
      "cell_type": "code",
      "source": [
        "movie_rating_data = pd.merge(pd.merge(ratings, users), movies)\n",
        "print(len(movie_rating_data))"
      ],
      "metadata": {
        "colab": {
          "base_uri": "https://localhost:8080/",
          "height": 0
        },
        "id": "2TDfZrDHlR61",
        "outputId": "2962a0fe-02c3-439c-bb13-624b2373ee02"
      },
      "execution_count": 14,
      "outputs": [
        {
          "output_type": "stream",
          "name": "stdout",
          "text": [
            "1000209\n"
          ]
        }
      ]
    },
    {
      "cell_type": "markdown",
      "source": [
        "Extracting all the unique genres from genres."
      ],
      "metadata": {
        "id": "y6H1sGkDLWY2"
      }
    },
    {
      "cell_type": "code",
      "source": [
        "unique_genres=pd.unique(movie_rating_data[\"genres\"].str.split(\"|\", expand=True).stack())"
      ],
      "metadata": {
        "id": "j6_u9iYolrLY"
      },
      "execution_count": 15,
      "outputs": []
    },
    {
      "cell_type": "markdown",
      "source": [
        "Question 1 - An aggregate on the number of rating done for each particular genre, e.g.,\n",
        "Action, Adventure, Drama, Science Fiction, ..."
      ],
      "metadata": {
        "id": "vh-CTs_zL9XI"
      }
    },
    {
      "cell_type": "code",
      "source": [
        "aggregate_genres_ratings = dict.fromkeys(unique_genres, 0)\n",
        "for index,row in movie_rating_data.iterrows():\n",
        "  list_temp=row['genres'].split('|')\n",
        "  for j in list_temp:\n",
        "    aggregate_genres_ratings[j]+=row['rating']\n",
        "for val in aggregate_genres_ratings:\n",
        "    print(val, \":\", aggregate_genres_ratings.get(val))"
      ],
      "metadata": {
        "colab": {
          "base_uri": "https://localhost:8080/",
          "height": 0
        },
        "id": "AJ6Qfe9AmS41",
        "outputId": "27ff973d-2cf5-44d4-c8b1-bae0dee04676"
      },
      "execution_count": 19,
      "outputs": [
        {
          "output_type": "stream",
          "name": "stdout",
          "text": [
            "Drama : 1335274\n",
            "Animation : 159529\n",
            "Children's : 247023\n",
            "Musical : 152240\n",
            "Romance : 532184\n",
            "Comedy : 1255910\n",
            "Action : 898830\n",
            "Adventure : 465789\n",
            "Fantasy : 125143\n",
            "Sci-Fi : 545263\n",
            "War : 266798\n",
            "Thriller : 677246\n",
            "Crime : 294992\n",
            "Mystery : 147377\n",
            "Western : 75240\n",
            "Horror : 245582\n",
            "Film-Noir : 74417\n",
            "Documentary : 31111\n"
          ]
        }
      ]
    },
    {
      "cell_type": "markdown",
      "source": [
        "Q2 - The top 5 ranked genres by women on most number of rating."
      ],
      "metadata": {
        "id": "c6RMkZQFMN2A"
      }
    },
    {
      "cell_type": "code",
      "source": [
        "aggregate_genres_ratings_women = dict.fromkeys(unique_genres, 0)\n",
        "aggregate_number_ratings_women = dict.fromkeys(unique_genres, 0)\n",
        "for index, row in movie_rating_data.iterrows():\n",
        "  if row['gender']=='F':\n",
        "    list_temp=row['genres'].split('|')\n",
        "    for j in list_temp:\n",
        "      aggregate_genres_ratings_women[j]+=row['rating']\n",
        "      aggregate_number_ratings_women[j]+=1\n",
        "for key in aggregate_number_ratings_women.keys():\n",
        "  if aggregate_number_ratings_women[key]!=0:\n",
        "    aggregate_genres_ratings_women[key]/=aggregate_number_ratings_women[key]\n",
        "res = nlargest(5, aggregate_genres_ratings_women, key = aggregate_genres_ratings_women.get)\n",
        "for val in res:\n",
        "    print(val, \":\", aggregate_genres_ratings_women.get(val))"
      ],
      "metadata": {
        "colab": {
          "base_uri": "https://localhost:8080/",
          "height": 0
        },
        "id": "bh6TTVky6zYy",
        "outputId": "faa85a8d-4a23-4faf-93d3-580caf08ca20"
      },
      "execution_count": 20,
      "outputs": [
        {
          "output_type": "stream",
          "name": "stdout",
          "text": [
            "Film-Noir : 4.018086625416468\n",
            "Documentary : 3.94639175257732\n",
            "War : 3.893138437522174\n",
            "Musical : 3.8091077378748612\n",
            "Drama : 3.7656617729463187\n"
          ]
        }
      ]
    },
    {
      "cell_type": "markdown",
      "source": [
        "Q3 - The top 5 ranked genres by men on most number of rating."
      ],
      "metadata": {
        "id": "V_cJIWO-MTYN"
      }
    },
    {
      "cell_type": "code",
      "source": [
        "aggregate_genres_ratings_men = dict.fromkeys(unique_genres, 0)\n",
        "aggregate_number_ratings_men = dict.fromkeys(unique_genres, 0)\n",
        "for index, row in movie_rating_data.iterrows():\n",
        "  if row['gender']=='M':\n",
        "    list_temp=row['genres'].split('|')\n",
        "    for j in list_temp:\n",
        "      aggregate_genres_ratings_men[j]+=row['rating']\n",
        "      aggregate_number_ratings_men[j]+=1\n",
        "for key in aggregate_number_ratings_men.keys():\n",
        "  if aggregate_number_ratings_men[key]!=0:\n",
        "    aggregate_genres_ratings_men[key]/=aggregate_number_ratings_men[key]\n",
        "res = nlargest(5, aggregate_genres_ratings_men, key = aggregate_genres_ratings_men.get)\n",
        "for val in res:\n",
        "    print(val, \":\", aggregate_genres_ratings_men.get(val))"
      ],
      "metadata": {
        "colab": {
          "base_uri": "https://localhost:8080/",
          "height": 0
        },
        "id": "JaIffdLROLHv",
        "outputId": "4e20c40b-0f8b-4453-9b6c-0354ad0cb457"
      },
      "execution_count": 21,
      "outputs": [
        {
          "output_type": "stream",
          "name": "stdout",
          "text": [
            "Film-Noir : 4.092254072124618\n",
            "Documentary : 3.9288107202680065\n",
            "War : 3.8933754638644964\n",
            "Drama : 3.7665889162792148\n",
            "Crime : 3.7137197102965183\n"
          ]
        }
      ]
    },
    {
      "cell_type": "markdown",
      "source": [
        "Q4 - Pick a genre of your choice and provide average movie’s ratings by the following\n",
        "four time intervals during which the movies were released (a) 1970 to 1979 (b) 1980 to\n",
        "1989 (c) 1990 to 1999 (d) 2000 to 2009. Also, if you observed any issues with data in\n",
        "any of these ranges, please mention it."
      ],
      "metadata": {
        "id": "-LiMvR4rMYvk"
      }
    },
    {
      "cell_type": "code",
      "source": [
        "average_ratings_ranges_year={'a':0,'b':0,'c':0,'d':0}\n",
        "average_ratings_number_year={'a':0,'b':0,'c':0,'d':0}\n",
        "for index, row in movie_rating_data.iterrows():\n",
        "  if 'Drama' in row['genres']:\n",
        "    row['Values'] = re.search(r\"(\\d{4})\", row['title']).group(1)\n",
        "    temp_year=int(row['Values'])\n",
        "    if temp_year>=1970 and temp_year<=1979:\n",
        "      average_ratings_ranges_year['a']+=(row['rating'])\n",
        "      average_ratings_number_year['a']+=1\n",
        "    elif temp_year>=1980 and temp_year<=1989:\n",
        "      average_ratings_ranges_year['b']+=(row['rating'])\n",
        "      average_ratings_number_year['b']+=1\n",
        "    elif temp_year>=1990 and temp_year<=1999:\n",
        "      average_ratings_ranges_year['c']+=(row['rating'])\n",
        "      average_ratings_number_year['c']+=1\n",
        "    elif temp_year>=2000 and temp_year<=2009:\n",
        "      average_ratings_ranges_year['d']+=(row['rating'])\n",
        "      average_ratings_number_year['d']+=1\n",
        "res = defaultdict(str)\n",
        "for key in average_ratings_ranges_year:\n",
        "  res[key]=average_ratings_ranges_year[key]/average_ratings_number_year[key]\n",
        "for k,v in res.items():\n",
        "  print(k +': '+str(v))"
      ],
      "metadata": {
        "colab": {
          "base_uri": "https://localhost:8080/",
          "height": 0
        },
        "id": "RFf6AhLFyfPD",
        "outputId": "1c6a1f2e-3ac7-4355-9ecf-259ad5e03db9"
      },
      "execution_count": 22,
      "outputs": [
        {
          "output_type": "stream",
          "name": "stdout",
          "text": [
            "a: 4.017183664360633\n",
            "b: 3.7917650354127486\n",
            "c: 3.664984195220635\n",
            "d: 3.675250357653791\n"
          ]
        }
      ]
    },
    {
      "cell_type": "markdown",
      "source": [
        "Q5 - A function that given a genre and a rating_range (i.e. [3.5, 4]), returns all\n",
        "the movies of that genre and within that rating range sorted by average rating. Using\n",
        "an example, demonstrate that your function works."
      ],
      "metadata": {
        "id": "H77KeR9hMd9t"
      }
    },
    {
      "cell_type": "code",
      "source": [
        "def movies_with_genre_rating(genre,rating):\n",
        "  d_aggr_rating=defaultdict(int)\n",
        "  d_num_rating=defaultdict(int)\n",
        "  for idx,row in movie_rating_data.iterrows():\n",
        "    if genre in row['genres'].split('|'):\n",
        "      d_aggr_rating[row['title']]+=row['rating']\n",
        "      d_num_rating[row['title']]+=1\n",
        "  res = defaultdict(int)\n",
        "  for key in d_aggr_rating:\n",
        "    if rating[0]<=d_aggr_rating[key]/d_num_rating[key]<=rating[1]: \n",
        "      res[key]=d_aggr_rating[key]/d_num_rating[key]\n",
        "\n",
        "  for k,v in sorted(res.items(), key=lambda x: x[1]):\n",
        "    print(\"{}: {}\".format(k, v))\n",
        "movies_with_genre_rating('Drama',[3.5,4])"
      ],
      "metadata": {
        "colab": {
          "base_uri": "https://localhost:8080/",
          "height": 0
        },
        "id": "r01OA1VaJcNB",
        "outputId": "26f77e1f-a4d3-4704-f9bd-de937cc93ac0"
      },
      "execution_count": 23,
      "outputs": [
        {
          "output_type": "stream",
          "name": "stdout",
          "text": [
            "Death and the Maiden (1994): 3.5\n",
            "Farinelli: il castrato (1994): 3.5\n",
            "Niagara (1953): 3.5\n",
            "Golden Bowl, The (2000): 3.5\n",
            "Blood on the Sun (1945): 3.5\n",
            "Welcome To Sarajevo (1997): 3.5\n",
            "Urbania (2000): 3.5\n",
            "City, The (1998): 3.5\n",
            "JLG/JLG - autoportrait de décembre (1994): 3.5\n",
            "Killing of Sister George, The (1968): 3.5\n",
            "Hollow Reed (1996): 3.5\n",
            "Tigrero: A Film That Was Never Made (1994): 3.5\n",
            "First Love, Last Rites (1997): 3.5\n",
            "Captives (1994): 3.5\n",
            "Identification of a Woman (Identificazione di una donna) (1982): 3.5\n",
            "Raining Stones (1993): 3.5\n",
            "Hangmen Also Die (1943): 3.5\n",
            "Run of the Country, The (1995): 3.5\n",
            "Slaves to the Underground (1997): 3.5\n",
            "Impact (1949): 3.5\n",
            "I'll Never Forget What's 'is Name (1967): 3.5\n",
            "Second Best (1994): 3.5\n",
            "Butcher Boy, The (1998): 3.503225806451613\n",
            "Talented Mr. Ripley, The (1999): 3.503380916604057\n",
            "High Art (1998): 3.5037593984962405\n",
            "Buffalo 66 (1998): 3.505649717514124\n",
            "Ghosts of Mississippi (1996): 3.506172839506173\n",
            "Tie Me Up! Tie Me Down! (1990): 3.507575757575758\n",
            "My Bodyguard (1980): 3.508403361344538\n",
            "My Life (1993): 3.5113636363636362\n",
            "Girlfight (2000): 3.5118110236220472\n",
            "Besieged (L' Assedio) (1998): 3.5121951219512195\n",
            "Falcon and the Snowman, The (1984): 3.513833992094862\n",
            "Dancer, Texas Pop. 81 (1998): 3.513888888888889\n",
            "Emerald Forest, The (1985): 3.5140845070422535\n",
            "End of the Affair, The (1999): 3.515\n",
            "Adventures of Sebastian Cole, The (1998): 3.515151515151515\n",
            "Cry in the Dark, A (1988): 3.515151515151515\n",
            "Oscar and Lucinda (a.k.a. Oscar & Lucinda) (1997): 3.5164835164835164\n",
            "Pecker (1998): 3.518987341772152\n",
            "Return to Paradise (1998): 3.5208333333333335\n",
            "Perfect World, A (1993): 3.522727272727273\n",
            "Michael Collins (1996): 3.523529411764706\n",
            "Ciao, Professore! (Io speriamo che me la cavo ) (1993): 3.5238095238095237\n",
            "Night Porter, The (Il Portiere di notte) (1974): 3.5238095238095237\n",
            "Interview with the Vampire (1994): 3.524390243902439\n",
            "Backbeat (1993): 3.525\n",
            "My Crazy Life (Mi vida loca) (1993): 3.5272727272727273\n",
            "Othello (1995): 3.53\n",
            "Tumbleweeds (1999): 3.5303030303030303\n",
            "Taste of Cherry (1997): 3.53125\n",
            "Last Temptation of Christ, The (1988): 3.531496062992126\n",
            "Squanto: A Warrior's Tale (1994): 3.533333333333333\n",
            "Tic Code, The (1998): 3.5384615384615383\n",
            "Jude (1996): 3.54\n",
            "Basketball Diaries, The (1995): 3.541436464088398\n",
            "Brassed Off (1996): 3.542016806722689\n",
            "Faster Pussycat! Kill! Kill! (1965): 3.542372881355932\n",
            "Nixon (1995): 3.542483660130719\n",
            "Lethal Weapon 2 (1989): 3.5450049455984174\n",
            "Cabaret Balkan (Bure Baruta) (1998): 3.5454545454545454\n",
            "They Made Me a Criminal (1939): 3.5454545454545454\n",
            "Circle of Friends (1995): 3.547112462006079\n",
            "Firm, The (1993): 3.5473300970873787\n",
            "Penny Serenade (1941): 3.55\n",
            "Barry Lyndon (1975): 3.5502958579881656\n",
            "Sleepers (1996): 3.550802139037433\n",
            "One Magic Christmas (1985): 3.5517241379310347\n",
            "Sid and Nancy (1986): 3.5526315789473686\n",
            "Courage Under Fire (1996): 3.5532879818594103\n",
            "Thieves (Voleurs, Les) (1996): 3.5555555555555554\n",
            "Experience Preferred... But Not Essential (1982): 3.5555555555555554\n",
            "Greaser's Palace (1972): 3.5555555555555554\n",
            "Primary Colors (1998): 3.558073654390935\n",
            "Browning Version, The (1994): 3.5588235294117645\n",
            "Age of Innocence, The (1993): 3.559322033898305\n",
            "My Life So Far (1999): 3.5625\n",
            "Parent Trap, The (1961): 3.565891472868217\n",
            "Hamlet (1964): 3.5660377358490565\n",
            "Romper Stomper (1992): 3.566265060240964\n",
            "Unbearable Lightness of Being, The (1988): 3.5676691729323307\n",
            "Eve's Bayou (1997): 3.569832402234637\n",
            "I Shot Andy Warhol (1996): 3.57\n",
            "Rainmaker, The (1997): 3.5700934579439254\n",
            "Murder in the First (1995): 3.5707547169811322\n",
            "Kidnapped (1960): 3.5714285714285716\n",
            "Blue Collar (1978): 3.5714285714285716\n",
            "Edge of Seventeen (1998): 3.5714285714285716\n",
            "Story of Xinghua, The (1993): 3.5714285714285716\n",
            "Bent (1997): 3.5714285714285716\n",
            "Love Is the Devil (1998): 3.5714285714285716\n",
            "Kika (1993): 3.5714285714285716\n",
            "Wrong Man, The (1956): 3.5816326530612246\n",
            "People vs. Larry Flynt, The (1996): 3.5833333333333335\n",
            "Nobody Loves Me (Keiner liebt mich) (1994): 3.5833333333333335\n",
            "Wife, The (1995): 3.5833333333333335\n",
            "Titanic (1997): 3.5834411384217333\n",
            "Brother from Another Planet, The (1984): 3.5853658536585367\n",
            "Somewhere in Time (1980): 3.585964912280702\n",
            "Wedding Gift, The (1994): 3.588235294117647\n",
            "Rob Roy (1995): 3.588447653429603\n",
            "Time to Kill, A (1996): 3.5901162790697674\n",
            "Wonderland (1999): 3.590909090909091\n",
            "Without Limits (1998): 3.590909090909091\n",
            "Some Kind of Wonderful (1987): 3.591304347826087\n",
            "Prizzi's Honor (1985): 3.5926605504587155\n",
            "Edward Scissorhands (1990): 3.5926680244399187\n",
            "Steel Magnolias (1989): 3.593137254901961\n",
            "Playing by Heart (1998): 3.5952380952380953\n",
            "Walk on the Moon, A (1999): 3.5980392156862746\n",
            "Purple Rose of Cairo, The (1985): 3.5991649269311066\n",
            "Dream With the Fishes (1997): 3.6\n",
            "Thomas Crown Affair, The (1968): 3.6\n",
            "Nelly & Monsieur Arnaud (1995): 3.6\n",
            "Rosetta (1999): 3.6\n",
            "Two or Three Things I Know About Her (1966): 3.6\n",
            "My Name Is Joe (1998): 3.6\n",
            "Feast of July (1995): 3.6\n",
            "Fearless (1993): 3.6008771929824563\n",
            "Batman (1989): 3.6009783368273935\n",
            "Until the End of the World (Bis ans Ende der Welt) (1991): 3.6029411764705883\n",
            "Last Supper, The (1995): 3.603305785123967\n",
            "Naked (1993): 3.606382978723404\n",
            "Menace II Society (1993): 3.6073825503355703\n",
            "Terms of Endearment (1983): 3.607547169811321\n",
            "Rounders (1998): 3.608695652173913\n",
            "Simon Birch (1998): 3.608910891089109\n",
            "Blue Sky (1994): 3.6095238095238096\n",
            "English Patient, The (1996): 3.609706774519717\n",
            "They Shoot Horses, Don't They? (1969): 3.610738255033557\n",
            "Affliction (1997): 3.611111111111111\n",
            "Cleo From 5 to 7 (Cléo de 5 à 7) (1962): 3.611111111111111\n",
            "Unstrung Heroes (1995): 3.611764705882353\n",
            "Exotica (1994): 3.6127659574468085\n",
            "Sex, Lies, and Videotape (1989): 3.613879003558719\n",
            "Horseman on the Roof, The (Hussard sur le toit, Le) (1995): 3.6153846153846154\n",
            "Rudy (1993): 3.615546218487395\n",
            "SLC Punk! (1998): 3.618705035971223\n",
            "Third Miracle, The (1999): 3.6222222222222222\n",
            "Family Thing, A (1996): 3.6233766233766236\n",
            "Get Shorty (1995): 3.6238938053097347\n",
            "Federal Hill (1994): 3.625\n",
            "Ballad of Narayama, The (Narayama Bushiko) (1958): 3.625\n",
            "So Dear to My Heart (1949): 3.625\n",
            "Beans of Egypt, Maine, The (1994): 3.625\n",
            "Lucas (1986): 3.6258064516129034\n",
            "Fisher King, The (1991): 3.6264550264550266\n",
            "Virgin Suicides, The (1999): 3.6310975609756095\n",
            "Carnal Knowledge (1971): 3.6325301204819276\n",
            "Down in the Delta (1998): 3.6333333333333333\n",
            "Jane Eyre (1996): 3.6341463414634148\n",
            "Kicking and Screaming (1995): 3.6344086021505375\n",
            "Emperor and the Assassin, The (Jing ke ci qin wang) (1999): 3.6363636363636362\n",
            "Losing Chase (1996): 3.6363636363636362\n",
            "Melvin and Howard (1980): 3.638888888888889\n",
            "Boys Life (1995): 3.6391752577319587\n",
            "Pink Floyd - The Wall (1982): 3.640826873385013\n",
            "Land Girls, The (1998): 3.642857142857143\n",
            "Manny & Lo (1996): 3.6451612903225805\n",
            "Wilde (1997): 3.6470588235294117\n",
            "Flower of My Secret, The (La Flor de Mi Secreto) (1995): 3.6470588235294117\n",
            "Nobody's Fool (1994): 3.648068669527897\n",
            "Shanghai Triad (Yao a yao yao dao waipo qiao) (1995): 3.6486486486486487\n",
            "Little Women (1994): 3.6491228070175437\n",
            "Aimée & Jaguar (1999): 3.65\n",
            "Dangerous Beauty (1998): 3.65\n",
            "Bastard Out of Carolina (1996): 3.6507936507936507\n",
            "Leaving Las Vegas (1995): 3.6510204081632653\n",
            "Liberty Heights (1999): 3.6516129032258067\n",
            "Xiu Xiu: The Sent-Down Girl (Tian yu) (1998): 3.652173913043478\n",
            "Out of Africa (1985): 3.6533546325878596\n",
            "Man Bites Dog (C'est arrivé près de chez vous) (1992): 3.655844155844156\n",
            "Ruby in Paradise (1993): 3.658119658119658\n",
            "Passion Fish (1992): 3.6598639455782314\n",
            "Ulee's Gold (1997): 3.661654135338346\n",
            "Priest (1994): 3.664335664335664\n",
            "Lord of the Flies (1963): 3.6657223796033995\n",
            "All Over Me (1997): 3.6666666666666665\n",
            "Sunshine (1999): 3.6666666666666665\n",
            "Affair of Love, An (Une Liaison Pornographique) (1999): 3.6666666666666665\n",
            "Tigerland (2000): 3.6666666666666665\n",
            "Limelight (1952): 3.6666666666666665\n",
            "Cyclo (1995): 3.6666666666666665\n",
            "Faces (1968): 3.6666666666666665\n",
            "Institute Benjamenta, or This Dream People Call Human Life (1995): 3.6666666666666665\n",
            "Journey of August King, The (1995): 3.6666666666666665\n",
            "Pandora and the Flying Dutchman (1951): 3.6666666666666665\n",
            "Bonheur, Le (1965): 3.6666666666666665\n",
            "Piano, The (1993): 3.674342105263158\n",
            "Little Princess, The (1939): 3.675324675324675\n",
            "Dear Diary (Caro Diario) (1994): 3.6785714285714284\n",
            "Picnic (1955): 3.6790123456790123\n",
            "Limey, The (1999): 3.679324894514768\n",
            "League of Their Own, A (1992): 3.6797088262056414\n",
            "Thelma & Louise (1991): 3.6803105151729003\n",
            "Return to Me (2000): 3.6806167400881056\n",
            "War Zone, The (1999): 3.683333333333333\n",
            "Otello (1986): 3.6842105263157894\n",
            "Red Firecracker, Green Firecracker (1994): 3.6875\n",
            "Outsiders, The (1983): 3.6875\n",
            "Artemisia (1997): 3.6875\n",
            "Buddy Holly Story, The (1978): 3.6884422110552766\n",
            "Next Stop, Wonderland (1998): 3.688775510204082\n",
            "Jackie Brown (1997): 3.6892265193370166\n",
            "Carlito's Way (1993): 3.6910569105691056\n",
            "New Age, The (1994): 3.6923076923076925\n",
            "Niagara, Niagara (1997): 3.6923076923076925\n",
            "Opposite of Sex, The (1998): 3.692434210526316\n",
            "This Is My Father (1998): 3.6944444444444446\n",
            "Mother Night (1996): 3.6956521739130435\n",
            "Mr. Holland's Opus (1995): 3.6968576709796674\n",
            "Ed Wood (1994): 3.696871628910464\n",
            "Once Upon a Time... When We Were Colored (1995): 3.696969696969697\n",
            "Hell in the Pacific (1968): 3.696969696969697\n",
            "McCabe & Mrs. Miller (1971): 3.6971153846153846\n",
            "Radio Days (1987): 3.6982456140350877\n",
            "Places in the Heart (1984): 3.699530516431925\n",
            "Colonel Chabert, Le (1994): 3.7\n",
            "Candidate, The (1972): 3.7012987012987013\n",
            "Sweet and Lowdown (1999): 3.701388888888889\n",
            "Topsy-Turvy (1999): 3.7039473684210527\n",
            "Old Yeller (1957): 3.7043189368770766\n",
            "Joe the King (1999): 3.7058823529411766\n",
            "Bound for Glory (1976): 3.7083333333333335\n",
            "Gattaca (1997): 3.711234911792015\n",
            "Titus (1999): 3.7116564417177913\n",
            "Faraway, So Close (In Weiter Ferne, So Nah!) (1993): 3.712121212121212\n",
            "Swimming with Sharks (1995): 3.712918660287081\n",
            "Scent of a Woman (1992): 3.7135135135135133\n",
            "...And Justice for All (1979): 3.71356783919598\n",
            "Ever After: A Cinderella Story (1998): 3.7139423076923075\n",
            "Soldier's Daughter Never Cries, A (1998): 3.7142857142857144\n",
            "My Favorite Season (1993): 3.7142857142857144\n",
            "My Family (1995): 3.717391304347826\n",
            "Amistad (1997): 3.717948717948718\n",
            "Coming Home (1978): 3.717948717948718\n",
            "Nineteen Eighty-Four (1984): 3.7194244604316546\n",
            "What Ever Happened to Baby Jane? (1962): 3.7219730941704037\n",
            "Good Earth, The (1937): 3.7222222222222223\n",
            "Phantom of the Opera, The (1943): 3.7232142857142856\n",
            "Crimson Tide (1995): 3.723684210526316\n",
            "Beautiful Girls (1996): 3.7252747252747254\n",
            "Madness of King George, The (1994): 3.7258485639686683\n",
            "Apostle, The (1997): 3.7261146496815285\n",
            "Belle de jour (1967): 3.7261904761904763\n",
            "Kundun (1997): 3.727272727272727\n",
            "Sneakers (1992): 3.7277726856095326\n",
            "Hamlet (1990): 3.7286245353159853\n",
            "Howards End (1992): 3.7291666666666665\n",
            "My Son the Fanatic (1998): 3.7291666666666665\n",
            "Contempt (Le Mépris) (1963): 3.730769230769231\n",
            "Crying Game, The (1992): 3.7314890154597236\n",
            "Autumn Sonata (Höstsonaten ) (1978): 3.7333333333333334\n",
            "Good Morning, Vietnam (1987): 3.733826247689464\n",
            "Flirt (1995): 3.736842105263158\n",
            "Soldier's Story, A (1984): 3.7378048780487805\n",
            "Education of Little Tree, The (1997): 3.739130434782609\n",
            "Citizen Ruth (1996): 3.73972602739726\n",
            "On Golden Pond (1981): 3.740740740740741\n",
            "Mephisto (1981): 3.740740740740741\n",
            "When Night Is Falling (1995): 3.740740740740741\n",
            "Long Walk Home, The (1990): 3.7411764705882353\n",
            "Of Human Bondage (1934): 3.7413793103448274\n",
            "Man Facing Southeast (Hombre Mirando al Sudeste) (1986): 3.7419354838709675\n",
            "Swept Away (Travolti da un insolito destino nell'azzurro mare d'Agosto) (1975): 3.7422680412371134\n",
            "King of the Hill (1993): 3.7432432432432434\n",
            "Patriot, The (2000): 3.7451612903225806\n",
            "Twin Falls Idaho (1999): 3.7473684210526317\n",
            "Night on Earth (1991): 3.747422680412371\n",
            "Broadcast News (1987): 3.747782002534854\n",
            "Bad Seed, The (1956): 3.748031496062992\n",
            "Jesus' Son (1999): 3.75\n",
            "Algiers (1938): 3.75\n",
            "Hate (Haine, La) (1995): 3.75\n",
            "Roadside Prophets (1992): 3.75\n",
            "Ashes of Time (1994): 3.75\n",
            "Giant (1956): 3.753846153846154\n",
            "Strawberry and Chocolate (Fresa y chocolate) (1993): 3.7540983606557377\n",
            "JFK (1991): 3.755291005291005\n",
            "Man with the Golden Arm, The (1955): 3.7555555555555555\n",
            "Smoke (1995): 3.755868544600939\n",
            "River Runs Through It, A (1992): 3.756019261637239\n",
            "Girl on the Bridge, The (La Fille sur le Pont) (1999): 3.757142857142857\n",
            "Immortal Beloved (1994): 3.7586206896551726\n",
            "Frequency (2000): 3.7588306942752743\n",
            "Quiz Show (1994): 3.7588652482269502\n",
            "Jerry Maguire (1996): 3.7590539541759056\n",
            "Splendor in the Grass (1961): 3.759259259259259\n",
            "Misérables, Les (1998): 3.7606177606177607\n",
            "Wings of the Dove, The (1997): 3.761467889908257\n",
            "Beyond Silence (1996): 3.761904761904762\n",
            "Blue Velvet (1986): 3.7629969418960245\n",
            "Official Story, The (La Historia Oficial) (1985): 3.763157894736842\n",
            "Stand and Deliver (1987): 3.764525993883792\n",
            "Rain (1932): 3.764705882352941\n",
            "East-West (Est-ouest) (1999): 3.766990291262136\n",
            "Contact (1997): 3.768451519536903\n",
            "Secret Garden, The (1993): 3.769230769230769\n",
            "Not One Less (Yi ge dou bu neng shao) (1999): 3.769230769230769\n",
            "Parenthood (1989): 3.7694204685573367\n",
            "Boogie Nights (1997): 3.769503546099291\n",
            "Easy Rider (1969): 3.7711340206185566\n",
            "Character (Karakter) (1997): 3.772727272727273\n",
            "Vie est belle, La (Life is Rosey) (1987): 3.7777777777777777\n",
            "Among Giants (1998): 3.7777777777777777\n",
            "Kim (1950): 3.7777777777777777\n",
            "Best Man, The (Il Testimone dello sposo) (1997): 3.7777777777777777\n",
            "Bandits (1997): 3.7777777777777777\n",
            "Chasing Amy (1997): 3.7784679089026914\n",
            "In the Company of Men (1997): 3.778501628664495\n",
            "Old Man and the Sea, The (1958): 3.7786259541984735\n",
            "Blow-Out (La Grande Bouffe) (1973): 3.78\n",
            "Awakenings (1990): 3.7808823529411764\n",
            "Contender, The (2000): 3.7809278350515463\n",
            "Indochine (1992): 3.78125\n",
            "Trip to Bountiful, The (1985): 3.7857142857142856\n",
            "Grand Hotel (1932): 3.7857142857142856\n",
            "Amateur (1994): 3.7872340425531914\n",
            "Grifters, The (1990): 3.7887005649717516\n",
            "Bandit Queen (1994): 3.7906976744186047\n",
            "Sliding Doors (1998): 3.790948275862069\n",
            "Prick Up Your Ears (1987): 3.792207792207792\n",
            "To Sir with Love (1967): 3.793103448275862\n",
            "Following (1998): 3.793103448275862\n",
            "Casino (1995): 3.7932551319648096\n",
            "Paris, Texas (1984): 3.793388429752066\n",
            "American President, The (1995): 3.7938044530493706\n",
            "Lost Horizon (1937): 3.7938144329896906\n",
            "Big Carnival, The (1951): 3.7948717948717947\n",
            "Donnie Brasco (1997): 3.7955493741307373\n",
            "Kramer Vs. Kramer (1979): 3.7964601769911503\n",
            "Chariots of Fire (1981): 3.7965299684542586\n",
            "Mighty, The (1998): 3.798507462686567\n",
            "Welcome to the Dollhouse (1995): 3.799163179916318\n",
            "I Can't Sleep (J'ai pas sommeil) (1994): 3.8\n",
            "Born American (1986): 3.8\n",
            "Ice Storm, The (1997): 3.8007889546351086\n",
            "Hamlet (1948): 3.8053097345132745\n",
            "Hana-bi (1997): 3.8055555555555554\n",
            "Adventures of Priscilla, Queen of the Desert, The (1994): 3.8059701492537314\n",
            "Fried Green Tomatoes (1991): 3.806070826306914\n",
            "Before Sunrise (1995): 3.80625\n",
            "Shine (1996): 3.8065693430656933\n",
            "Three Kings (1999): 3.8070519098922624\n",
            "Klute (1971): 3.80794701986755\n",
            "Blowup (1966): 3.8089430894308944\n",
            "Smoke Signals (1998): 3.8091397849462365\n",
            "Umbrellas of Cherbourg, The (Parapluies de Cherbourg, Les) (1964): 3.8119658119658117\n",
            "Excalibur (1981): 3.81266846361186\n",
            "Gods and Monsters (1998): 3.8131487889273354\n",
            "Queen Margot (La Reine Margot) (1994): 3.813953488372093\n",
            "Year My Voice Broke, The (1987): 3.814814814814815\n",
            "Misérables, Les (1995): 3.8169642857142856\n",
            "Short Cuts (1993): 3.8172757475083055\n",
            "Effect of Gamma Rays on Man-in-the-Moon Marigolds, The (1972): 3.8181818181818183\n",
            "Dancer in the Dark (2000): 3.82\n",
            "Looking for Richard (1996): 3.8219178082191783\n",
            "Six Degrees of Separation (1993): 3.8222222222222224\n",
            "Frances (1982): 3.8222222222222224\n",
            "Bound (1996): 3.8234265734265733\n",
            "Breaking the Waves (1996): 3.8239700374531833\n",
            "Hilary and Jackie (1998): 3.825\n",
            "My Life in Pink (Ma vie en rose) (1997): 3.825870646766169\n",
            "Mirror, The (Zerkalo) (1975): 3.8260869565217392\n",
            "Picnic at Hanging Rock (1975): 3.8263473053892216\n",
            "White Balloon, The (Badkonake Sefid ) (1995): 3.826923076923077\n",
            "Children of a Lesser God (1986): 3.8277945619335347\n",
            "Joy Luck Club, The (1993): 3.829113924050633\n",
            "Seven Beauties (Pasqualino Settebellezze) (1976): 3.831168831168831\n",
            "Commitments, The (1991): 3.8315412186379927\n",
            "Natural, The (1984): 3.832116788321168\n",
            "Atlantic City (1980): 3.8322368421052633\n",
            "Suddenly, Last Summer (1959): 3.8333333333333335\n",
            "Substance of Fire, The (1996): 3.8333333333333335\n",
            "Déjà Vu (1997): 3.8333333333333335\n",
            "Shadowlands (1993): 3.835664335664336\n",
            "Auntie Mame (1958): 3.835766423357664\n",
            "Paper Chase, The (1973): 3.837370242214533\n",
            "Double Happiness (1994): 3.838709677419355\n",
            "Shane (1953): 3.839344262295082\n",
            "What's Eating Gilbert Grape (1993): 3.8412698412698414\n",
            "Watership Down (1978): 3.8426229508196723\n",
            "Ghost Dog: The Way of the Samurai (1999): 3.843949044585987\n",
            "Ridicule (1996): 3.8448275862068964\n",
            "Of Mice and Men (1992): 3.847560975609756\n",
            "Hurricane, The (1999): 3.848722986247544\n",
            "Last Detail, The (1973): 3.8488372093023258\n",
            "Secret of Roan Inish, The (1994): 3.85\n",
            "Stonewall (1995): 3.85\n",
            "To Be or Not to Be (1942): 3.8509316770186337\n",
            "Maurice (1987): 3.8514851485148514\n",
            "Lovers of the Arctic Circle, The (Los Amantes del Círculo Polar) (1998): 3.8541666666666665\n",
            "Butterfly (La Lengua de las Mariposas) (2000): 3.8550724637681157\n",
            "Color Purple, The (1985): 3.8555555555555556\n",
            "Birdy (1984): 3.8565022421524664\n",
            "Bhaji on the Beach (1993): 3.857142857142857\n",
            "Our Town (1940): 3.857142857142857\n",
            "Ladybird Ladybird (1994): 3.857142857142857\n",
            "Eternity and a Day (Mia eoniotita ke mia mera ) (1998): 3.857142857142857\n",
            "Peeping Tom (1960): 3.8588235294117648\n",
            "Vanya on 42nd Street (1994): 3.8596491228070176\n",
            "Truman Show, The (1998): 3.861691542288557\n",
            "Twelfth Night (1996): 3.861842105263158\n",
            "Live Flesh (1997): 3.8620689655172415\n",
            "Once Upon a Time in America (1984): 3.863070539419087\n",
            "Erin Brockovich (2000): 3.863878326996198\n",
            "Verdict, The (1982): 3.865435356200528\n",
            "Lolita (1962): 3.8656716417910446\n",
            "Heavenly Creatures (1994): 3.8658280922431865\n",
            "Chungking Express (1994): 3.869565217391304\n",
            "Little Princess, A (1995): 3.872093023255814\n",
            "Big Chill, The (1983): 3.8747016706443915\n",
            "Night to Remember, A (1958): 3.875\n",
            "Promise, The (La Promesse) (1996): 3.875\n",
            "Mrs. Brown (Her Majesty, Mrs. Brown) (1997): 3.8754716981132074\n",
            "Antonia's Line (Antonia) (1995): 3.8764044943820224\n",
            "Driving Miss Daisy (1989): 3.8773006134969323\n",
            "Mystery Train (1989): 3.877659574468085\n",
            "Mrs. Miniver (1942): 3.8780487804878048\n",
            "Three Seasons (1999): 3.8780487804878048\n",
            "Breakfast Club, The (1985): 3.8797920727745288\n",
            "Emma (1996): 3.8802395209580838\n",
            "Do the Right Thing (1989): 3.880921895006402\n",
            "Mansfield Park (1999): 3.882758620689655\n",
            "Fanny and Alexander (1982): 3.8828125\n",
            "Cyrano de Bergerac (1990): 3.884297520661157\n",
            "Glengarry Glen Ross (1992): 3.8844133099824867\n",
            "Lethal Weapon (1987): 3.8869084204056548\n",
            "If.... (1968): 3.888888888888889\n",
            "Wings (1927): 3.888888888888889\n",
            "Gentleman's Agreement (1947): 3.89010989010989\n",
            "Babe (1995): 3.8914905768132497\n",
            "Women on the Verge of a Nervous Breakdown (1988): 3.8923512747875355\n",
            "Magnolia (1999): 3.8939802336028753\n",
            "Philadelphia (1993): 3.894830659536542\n",
            "Year of Living Dangerously (1982): 3.895140664961637\n",
            "Mission, The (1986): 3.8951965065502185\n",
            "Primal Fear (1996): 3.8969072164948453\n",
            "Two Family House (2000): 3.9\n",
            "Some Mother's Son (1996): 3.9\n",
            "Last September, The (1999): 3.9\n",
            "In the Name of the Father (1993): 3.9006410256410255\n",
            "Malcolm X (1992): 3.903157894736842\n",
            "Tender Mercies (1983): 3.9053030303030303\n",
            "Breakfast at Tiffany's (1961): 3.908284023668639\n",
            "Hanging Garden, The (1997): 3.909090909090909\n",
            "Only Angels Have Wings (1939): 3.909090909090909\n",
            "Lost Weekend, The (1945): 3.9098360655737703\n",
            "Winslow Boy, The (1998): 3.910958904109589\n",
            "Field of Dreams (1989): 3.9114583333333335\n",
            "Man and a Woman, A (Un Homme et une Femme) (1966): 3.912087912087912\n",
            "Meet John Doe (1941): 3.9146341463414633\n",
            "Dances with Wolves (1990): 3.9152308752584424\n",
            "Romeo and Juliet (1968): 3.9157303370786516\n",
            "Once Were Warriors (1994): 3.9166666666666665\n",
            "Remains of the Day, The (1993): 3.917777777777778\n",
            "Hoosiers (1986): 3.91864406779661\n",
            "Guess Who's Coming to Dinner (1967): 3.92\n",
            "Nashville (1975): 3.92\n",
            "Room at the Top (1959): 3.92\n",
            "Drugstore Cowboy (1989): 3.920673076923077\n",
            "Diner (1982): 3.9225268176400476\n",
            "Rebel Without a Cause (1955): 3.9228855721393034\n",
            "Remember the Titans (2000): 3.9244851258581237\n",
            "Kaspar Hauser (1993): 3.9285714285714284\n",
            "And the Band Played On (1993): 3.9298245614035086\n",
            "Return of Martin Guerre, The (Retour de Martin Guerre, Le) (1982): 3.930379746835443\n",
            "Few Good Men, A (1992): 3.93119698397738\n",
            "Bronx Tale, A (1993): 3.931558935361217\n",
            "Like Water for Chocolate (Como agua para chocolate) (1992): 3.9326424870466323\n",
            "Cry, the Beloved Country (1995): 3.933333333333333\n",
            "Double Life of Veronique, The (La Double Vie de Véronique) (1991): 3.937984496124031\n",
            "Color of Paradise, The (Rang-e Khoda) (1999): 3.9384615384615387\n",
            "Spanish Prisoner, The (1997): 3.9391480730223125\n",
            "Blue Angel, The (Blaue Engel, Der) (1930): 3.94\n",
            "Trial, The (Le Procès) (1963): 3.9411764705882355\n",
            "Swingers (1996): 3.94147582697201\n",
            "Rocky (1976): 3.9433126660761735\n",
            "Lifeboat (1944): 3.943661971830986\n",
            "Twelve Monkeys (1995): 3.945731303772336\n",
            "Tin Drum, The (Blechtrommel, Die) (1979): 3.9468085106382977\n",
            "Ballad of Narayama, The (Narayama Bushiko) (1982): 3.9473684210526314\n",
            "On the Beach (1959): 3.9473684210526314\n",
            "Great Santini, The (1979): 3.948717948717949\n",
            "Wonder Boys (2000): 3.9495967741935485\n",
            "Vagabond (Sans toit ni loi) (1985): 3.95\n",
            "As Good As It Gets (1997): 3.9501404494382024\n",
            "Othello (1952): 3.951219512195122\n",
            "Open Your Eyes (Abre los ojos) (1997): 3.9516129032258065\n",
            "Cider House Rules, The (1999): 3.952180028129395\n",
            "Five Easy Pieces (1970): 3.9526462395543174\n",
            "Men With Guns (1997): 3.956043956043956\n",
            "Days of Heaven (1978): 3.957627118644068\n",
            "Dead Man Walking (1995): 3.9579741379310347\n",
            "My Left Foot (1989): 3.958057395143488\n",
            "Hamlet (1996): 3.9581151832460733\n",
            "Richard III (1995): 3.958677685950413\n",
            "Fitzcarraldo (1982): 3.9591836734693877\n",
            "Trainspotting (1996): 3.9600532623169107\n",
            "Miracle on 34th Street (1947): 3.960526315789474\n",
            "Red Violin, The (Le Violon rouge) (1998): 3.9622641509433962\n",
            "Place in the Sun, A (1951): 3.962686567164179\n",
            "Player, The (1992): 3.96319018404908\n",
            "Walkabout (1971): 3.963235294117647\n",
            "Guns of Navarone, The (1961): 3.9641434262948207\n",
            "E.T. the Extra-Terrestrial (1982): 3.9651828999559275\n",
            "Three Colors: White (1994): 3.9653465346534653\n",
            "Down by Law (1986): 3.9657534246575343\n",
            "Dog Day Afternoon (1975): 3.969934640522876\n",
            "Battleship Potemkin, The (Bronenosets Potyomkin) (1925): 3.97008547008547\n",
            "Dangerous Liaisons (1988): 3.9715394566623545\n",
            "Longest Day, The (1962): 3.971590909090909\n",
            "Last Picture Show, The (1971): 3.9717514124293785\n",
            "Raisin in the Sun, A (1961): 3.972027972027972\n",
            "Marty (1955): 3.975609756097561\n",
            "Last Emperor, The (1987): 3.9764150943396226\n",
            "Sophie's Choice (1982): 3.9767441860465116\n",
            "East of Eden (1955): 3.9767441860465116\n",
            "Searching for Bobby Fischer (1993): 3.977777777777778\n",
            "Jules and Jim (Jules et Jim) (1961): 3.97972972972973\n",
            "Four Days in September (1997): 3.980392156862745\n",
            "Never Cry Wolf (1983): 3.981132075471698\n",
            "Serpico (1973): 3.981818181818182\n",
            "Ghost and Mrs. Muir, The (1947): 3.982456140350877\n",
            "Rosencrantz and Guildenstern Are Dead (1990): 3.9846153846153847\n",
            "Christmas Carol, A (1938): 3.9896907216494846\n",
            "Ordinary People (1980): 3.990138067061144\n",
            "Enchanted April (1991): 3.993197278911565\n",
            "Witness (1985): 3.9961759082217974\n",
            "Room with a View, A (1986): 3.9964285714285714\n",
            "Gone with the Wind (1939): 3.9974048442906573\n",
            "Dreamlife of Angels, The (La Vie rêvée des anges) (1998): 4.0\n",
            "Chushingura (1962): 4.0\n",
            "Fresh (1994): 4.0\n",
            "Friend of the Deceased, A (1997): 4.0\n",
            "Wend Kuuni (God's Gift) (1982): 4.0\n",
            "Midaq Alley (Callejón de los milagros, El) (1995): 4.0\n",
            "Lonely Are the Brave (1962): 4.0\n",
            "Running Free (2000): 4.0\n",
            "End of the Affair, The (1955): 4.0\n",
            "Jar, The (Khomreh) (1992): 4.0\n",
            "Savior (1998): 4.0\n",
            "Dingo (1992): 4.0\n",
            "Beloved/Friend (Amigo/Amado) (1999): 4.0\n",
            "Sacco and Vanzetti (Sacco e Vanzetti) (1971): 4.0\n",
            "24 7: Twenty Four Seven (1997): 4.0\n",
            "Walk in the Sun, A (1945): 4.0\n",
            "Angela (1995): 4.0\n",
            "Target (1995): 4.0\n",
            "Voyage to the Beginning of the World (1997): 4.0\n",
            "Leather Jacket Love Story (1997): 4.0\n",
            "Ten Benny (1997): 4.0\n",
            "Everything Relative (1996): 4.0\n",
            "Fall Time (1995): 4.0\n",
            "Anna (1996): 4.0\n",
            "Bye-Bye (1995): 4.0\n",
            "I Don't Want to Talk About It (De eso no se habla) (1993): 4.0\n",
            "Daens (1992): 4.0\n",
            "Another Man's Poison (1952): 4.0\n",
            "Alley Cats, The (1968): 4.0\n",
            "Heaven's Burning (1997): 4.0\n",
            "Illtown (1996): 4.0\n",
            "Condition Red (1995): 4.0\n",
            "Outside Ozona (1998): 4.0\n"
          ]
        }
      ]
    },
    {
      "cell_type": "markdown",
      "source": [
        "Q6 - This code generates a plot that displays the number of users that watch movies of a particular genre. movieratings_age_range is a method that takes in a paramegter genre and returns the graph displaying number of users in different age groups. An interesting observation made was that for all genres, the age group 25 that ranges from \"25-35\" has the highest number of viewers. "
      ],
      "metadata": {
        "id": "PipoRMAYMiXL"
      }
    },
    {
      "cell_type": "markdown",
      "source": [
        ""
      ],
      "metadata": {
        "id": "_CKoQa9lOMUt"
      }
    },
    {
      "cell_type": "code",
      "source": [
        "import matplotlib.pyplot as plt\n",
        "def movieratings_age_range(genre):\n",
        "  average_age_movies={1:0,18:0,25:0,35:0,45:0,50:0,56:0}\n",
        "  average_ratings_number_year={'a':0,'b':0,'c':0,'d':0}\n",
        "  for idx,row in movie_rating_data.iterrows():\n",
        "    if genre in row['genres'].split('|'):\n",
        "      average_age_movies[row['age']]+=1\n",
        "  age_group = list(average_age_movies.keys())\n",
        "  number_of_viewers = list(average_age_movies.values())\n",
        "  plt.bar(range(len(average_age_movies)), number_of_viewers, tick_label=age_group)\n",
        "  plt.show()\n",
        "movieratings_age_range('Documentary')"
      ],
      "metadata": {
        "colab": {
          "base_uri": "https://localhost:8080/",
          "height": 265
        },
        "id": "XykUkgQ9SX0E",
        "outputId": "ea267707-c06b-466f-df0e-2f6e0748386e"
      },
      "execution_count": 44,
      "outputs": [
        {
          "output_type": "display_data",
          "data": {
            "text/plain": [
              "<Figure size 432x288 with 1 Axes>"
            ],
            "image/png": "[encoded data removed]"
          },
          "metadata": {
            "needs_background": "light"
          }
        }
      ]
    }
  ]
}