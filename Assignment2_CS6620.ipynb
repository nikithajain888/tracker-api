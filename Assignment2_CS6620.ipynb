{
  "nbformat": 4,
  "nbformat_minor": 0,
  "metadata": {
    "colab": {
      "name": "Assignment2-CS6620.ipynb",
      "provenance": [],
      "collapsed_sections": [],
      "authorship_tag": "ABX9TyPj5XnzUYgrgTK8U7CKB06H",
      "include_colab_link": true
    },
    "kernelspec": {
      "name": "python3",
      "display_name": "Python 3"
    },
    "language_info": {
      "name": "python"
    }
  },
  "cells": [
    {
      "cell_type": "markdown",
      "metadata": {
        "id": "view-in-github",
        "colab_type": "text"
      },
      "source": [
        "<a href=\"https://colab.research.google.com/github/nikithajain888/tracker-api/blob/main/Assignment2_CS6620.ipynb\" target=\"_parent\"><img src=\"https://colab.research.google.com/assets/colab-badge.svg\" alt=\"Open In Colab\"/></a>"
      ]
    },
    {
      "cell_type": "code",
      "execution_count": 2,
      "metadata": {
        "colab": {
          "base_uri": "https://localhost:8080/",
          "height": 0
        },
        "id": "LaxHMAGagUpo",
        "outputId": "46d9c4b1-3a58-4998-87dd-6a448887beba"
      },
      "outputs": [
        {
          "output_type": "stream",
          "name": "stdout",
          "text": [
            "Populating the interactive namespace from numpy and matplotlib\n"
          ]
        }
      ],
      "source": [
        "%pylab inline\n",
        "import warnings\n",
        "warnings.filterwarnings('ignore')"
      ]
    },
    {
      "cell_type": "code",
      "source": [
        "import pandas as pd\n",
        "import numpy as np\n",
        "import matplotlib.pyplot as plt\n",
        "from pandas.plotting import scatter_matrix"
      ],
      "metadata": {
        "id": "LnTEnNlLgjNO"
      },
      "execution_count": 3,
      "outputs": []
    },
    {
      "cell_type": "markdown",
      "source": [
        "Create a dataframe df"
      ],
      "metadata": {
        "id": "tMlS-yNAhrYN"
      }
    },
    {
      "cell_type": "code",
      "source": [
        "df = pd.read_csv('iris.data',names=[\"sepal_length\", \"sepal_width\",\"petal_length\",'petal_width','class'])\n",
        "print(df[:-10])"
      ],
      "metadata": {
        "colab": {
          "base_uri": "https://localhost:8080/",
          "height": 0
        },
        "id": "a_CRA2VVgtSD",
        "outputId": "eb01438c-2a47-4899-9d10-a9e9ca8c398b"
      },
      "execution_count": 5,
      "outputs": [
        {
          "output_type": "stream",
          "name": "stdout",
          "text": [
            "     sepal_length  sepal_width  petal_length  petal_width           class\n",
            "0             5.1          3.5           1.4          0.2     Iris-setosa\n",
            "1             4.9          3.0           1.4          0.2     Iris-setosa\n",
            "2             4.7          3.2           1.3          0.2     Iris-setosa\n",
            "3             4.6          3.1           1.5          0.2     Iris-setosa\n",
            "4             5.0          3.6           1.4          0.2     Iris-setosa\n",
            "..            ...          ...           ...          ...             ...\n",
            "135           7.7          3.0           6.1          2.3  Iris-virginica\n",
            "136           6.3          3.4           5.6          2.4  Iris-virginica\n",
            "137           6.4          3.1           5.5          1.8  Iris-virginica\n",
            "138           6.0          3.0           4.8          1.8  Iris-virginica\n",
            "139           6.9          3.1           5.4          2.1  Iris-virginica\n",
            "\n",
            "[140 rows x 5 columns]\n"
          ]
        }
      ]
    },
    {
      "cell_type": "markdown",
      "source": [
        "1.1 Summary Statistics [10 Points]\n",
        "Compute and display summary statistics for each feature available in the dataset. These\n",
        "must include the minimum value, maximum value, mean, range, standard deviation, variance,\n",
        "count, and 25:50:75% percentiles.\n",
        "The following code block uses decribe() to compute the minimum value, maximum value, mean, standard deviation,\n",
        "count, and 25:50:75% percentiles.\n"
      ],
      "metadata": {
        "id": "rGWZFN7ckxV4"
      }
    },
    {
      "cell_type": "code",
      "source": [
        "df.describe()"
      ],
      "metadata": {
        "colab": {
          "base_uri": "https://localhost:8080/",
          "height": 300
        },
        "id": "hgtOhY2QhtcI",
        "outputId": "26ad60ed-f2f7-4cef-c460-2e173b49af52"
      },
      "execution_count": 6,
      "outputs": [
        {
          "output_type": "execute_result",
          "data": {
            "text/plain": [
              "       sepal_length  sepal_width  petal_length  petal_width\n",
              "count    150.000000   150.000000    150.000000   150.000000\n",
              "mean       5.843333     3.054000      3.758667     1.198667\n",
              "std        0.828066     0.433594      1.764420     0.763161\n",
              "min        4.300000     2.000000      1.000000     0.100000\n",
              "25%        5.100000     2.800000      1.600000     0.300000\n",
              "50%        5.800000     3.000000      4.350000     1.300000\n",
              "75%        6.400000     3.300000      5.100000     1.800000\n",
              "max        7.900000     4.400000      6.900000     2.500000"
            ],
            "text/html": [
              "\n",
              "  <div id=\"df-09542880-ffed-4c33-88cd-cf56a824a406\">\n",
              "    <div class=\"colab-df-container\">\n",
              "      <div>\n",
              "<style scoped>\n",
              "    .dataframe tbody tr th:only-of-type {\n",
              "        vertical-align: middle;\n",
              "    }\n",
              "\n",
              "    .dataframe tbody tr th {\n",
              "        vertical-align: top;\n",
              "    }\n",
              "\n",
              "    .dataframe thead th {\n",
              "        text-align: right;\n",
              "    }\n",
              "</style>\n",
              "<table border=\"1\" class=\"dataframe\">\n",
              "  <thead>\n",
              "    <tr style=\"text-align: right;\">\n",
              "      <th></th>\n",
              "      <th>sepal_length</th>\n",
              "      <th>sepal_width</th>\n",
              "      <th>petal_length</th>\n",
              "      <th>petal_width</th>\n",
              "    </tr>\n",
              "  </thead>\n",
              "  <tbody>\n",
              "    <tr>\n",
              "      <th>count</th>\n",
              "      <td>150.000000</td>\n",
              "      <td>150.000000</td>\n",
              "      <td>150.000000</td>\n",
              "      <td>150.000000</td>\n",
              "    </tr>\n",
              "    <tr>\n",
              "      <th>mean</th>\n",
              "      <td>5.843333</td>\n",
              "      <td>3.054000</td>\n",
              "      <td>3.758667</td>\n",
              "      <td>1.198667</td>\n",
              "    </tr>\n",
              "    <tr>\n",
              "      <th>std</th>\n",
              "      <td>0.828066</td>\n",
              "      <td>0.433594</td>\n",
              "      <td>1.764420</td>\n",
              "      <td>0.763161</td>\n",
              "    </tr>\n",
              "    <tr>\n",
              "      <th>min</th>\n",
              "      <td>4.300000</td>\n",
              "      <td>2.000000</td>\n",
              "      <td>1.000000</td>\n",
              "      <td>0.100000</td>\n",
              "    </tr>\n",
              "    <tr>\n",
              "      <th>25%</th>\n",
              "      <td>5.100000</td>\n",
              "      <td>2.800000</td>\n",
              "      <td>1.600000</td>\n",
              "      <td>0.300000</td>\n",
              "    </tr>\n",
              "    <tr>\n",
              "      <th>50%</th>\n",
              "      <td>5.800000</td>\n",
              "      <td>3.000000</td>\n",
              "      <td>4.350000</td>\n",
              "      <td>1.300000</td>\n",
              "    </tr>\n",
              "    <tr>\n",
              "      <th>75%</th>\n",
              "      <td>6.400000</td>\n",
              "      <td>3.300000</td>\n",
              "      <td>5.100000</td>\n",
              "      <td>1.800000</td>\n",
              "    </tr>\n",
              "    <tr>\n",
              "      <th>max</th>\n",
              "      <td>7.900000</td>\n",
              "      <td>4.400000</td>\n",
              "      <td>6.900000</td>\n",
              "      <td>2.500000</td>\n",
              "    </tr>\n",
              "  </tbody>\n",
              "</table>\n",
              "</div>\n",
              "      <button class=\"colab-df-convert\" onclick=\"convertToInteractive('df-09542880-ffed-4c33-88cd-cf56a824a406')\"\n",
              "              title=\"Convert this dataframe to an interactive table.\"\n",
              "              style=\"display:none;\">\n",
              "        \n",
              "  <svg xmlns=\"http://www.w3.org/2000/svg\" height=\"24px\"viewBox=\"0 0 24 24\"\n",
              "       width=\"24px\">\n",
              "    <path d=\"M0 0h24v24H0V0z\" fill=\"none\"/>\n",
              "    <path d=\"M18.56 5.44l.94 2.06.94-2.06 2.06-.94-2.06-.94-.94-2.06-.94 2.06-2.06.94zm-11 1L8.5 8.5l.94-2.06 2.06-.94-2.06-.94L8.5 2.5l-.94 2.06-2.06.94zm10 10l.94 2.06.94-2.06 2.06-.94-2.06-.94-.94-2.06-.94 2.06-2.06.94z\"/><path d=\"M17.41 7.96l-1.37-1.37c-.4-.4-.92-.59-1.43-.59-.52 0-1.04.2-1.43.59L10.3 9.45l-7.72 7.72c-.78.78-.78 2.05 0 2.83L4 21.41c.39.39.9.59 1.41.59.51 0 1.02-.2 1.41-.59l7.78-7.78 2.81-2.81c.8-.78.8-2.07 0-2.86zM5.41 20L4 18.59l7.72-7.72 1.47 1.35L5.41 20z\"/>\n",
              "  </svg>\n",
              "      </button>\n",
              "      \n",
              "  <style>\n",
              "    .colab-df-container {\n",
              "      display:flex;\n",
              "      flex-wrap:wrap;\n",
              "      gap: 12px;\n",
              "    }\n",
              "\n",
              "    .colab-df-convert {\n",
              "      background-color: #E8F0FE;\n",
              "      border: none;\n",
              "      border-radius: 50%;\n",
              "      cursor: pointer;\n",
              "      display: none;\n",
              "      fill: #1967D2;\n",
              "      height: 32px;\n",
              "      padding: 0 0 0 0;\n",
              "      width: 32px;\n",
              "    }\n",
              "\n",
              "    .colab-df-convert:hover {\n",
              "      background-color: #E2EBFA;\n",
              "      box-shadow: 0px 1px 2px rgba(60, 64, 67, 0.3), 0px 1px 3px 1px rgba(60, 64, 67, 0.15);\n",
              "      fill: #174EA6;\n",
              "    }\n",
              "\n",
              "    [theme=dark] .colab-df-convert {\n",
              "      background-color: #3B4455;\n",
              "      fill: #D2E3FC;\n",
              "    }\n",
              "\n",
              "    [theme=dark] .colab-df-convert:hover {\n",
              "      background-color: #434B5C;\n",
              "      box-shadow: 0px 1px 3px 1px rgba(0, 0, 0, 0.15);\n",
              "      filter: drop-shadow(0px 1px 2px rgba(0, 0, 0, 0.3));\n",
              "      fill: #FFFFFF;\n",
              "    }\n",
              "  </style>\n",
              "\n",
              "      <script>\n",
              "        const buttonEl =\n",
              "          document.querySelector('#df-09542880-ffed-4c33-88cd-cf56a824a406 button.colab-df-convert');\n",
              "        buttonEl.style.display =\n",
              "          google.colab.kernel.accessAllowed ? 'block' : 'none';\n",
              "\n",
              "        async function convertToInteractive(key) {\n",
              "          const element = document.querySelector('#df-09542880-ffed-4c33-88cd-cf56a824a406');\n",
              "          const dataTable =\n",
              "            await google.colab.kernel.invokeFunction('convertToInteractive',\n",
              "                                                     [key], {});\n",
              "          if (!dataTable) return;\n",
              "\n",
              "          const docLinkHtml = 'Like what you see? Visit the ' +\n",
              "            '<a target=\"_blank\" href=https://colab.research.google.com/notebooks/data_table.ipynb>data table notebook</a>'\n",
              "            + ' to learn more about interactive tables.';\n",
              "          element.innerHTML = '';\n",
              "          dataTable['output_type'] = 'display_data';\n",
              "          await google.colab.output.renderOutput(dataTable, element);\n",
              "          const docLink = document.createElement('div');\n",
              "          docLink.innerHTML = docLinkHtml;\n",
              "          element.appendChild(docLink);\n",
              "        }\n",
              "      </script>\n",
              "    </div>\n",
              "  </div>\n",
              "  "
            ]
          },
          "metadata": {},
          "execution_count": 6
        }
      ]
    },
    {
      "cell_type": "markdown",
      "source": [
        "the following block computes the variance by using var()"
      ],
      "metadata": {
        "id": "LTJ5DZup1nix"
      }
    },
    {
      "cell_type": "code",
      "source": [
        "df.var()"
      ],
      "metadata": {
        "colab": {
          "base_uri": "https://localhost:8080/",
          "height": 0
        },
        "id": "_BooSYHokyeB",
        "outputId": "d2473585-9b9b-4998-b6f3-5d72f0235461"
      },
      "execution_count": 7,
      "outputs": [
        {
          "output_type": "execute_result",
          "data": {
            "text/plain": [
              "sepal_length    0.685694\n",
              "sepal_width     0.188004\n",
              "petal_length    3.113179\n",
              "petal_width     0.582414\n",
              "dtype: float64"
            ]
          },
          "metadata": {},
          "execution_count": 7
        }
      ]
    },
    {
      "cell_type": "markdown",
      "source": [
        "the follwoing block computes the ranges for each column by calculating the maximum value - minimum value of each block"
      ],
      "metadata": {
        "id": "SwVEZ_7e1sXt"
      }
    },
    {
      "cell_type": "code",
      "source": [
        "df1 = df[['sepal_length','sepal_width','petal_length','petal_width']]\n",
        "df1\n",
        "df1.max()-df1.min()"
      ],
      "metadata": {
        "colab": {
          "base_uri": "https://localhost:8080/",
          "height": 0
        },
        "id": "Lt5C2EIvldQJ",
        "outputId": "8cfb1d3c-3950-4867-f021-865fa758855c"
      },
      "execution_count": 8,
      "outputs": [
        {
          "output_type": "execute_result",
          "data": {
            "text/plain": [
              "sepal_length    3.6\n",
              "sepal_width     2.4\n",
              "petal_length    5.9\n",
              "petal_width     2.4\n",
              "dtype: float64"
            ]
          },
          "metadata": {},
          "execution_count": 8
        }
      ]
    },
    {
      "cell_type": "markdown",
      "source": [
        "The following code block is to return a simple summary of the number of unique values and most frequently occurring ones for the class column"
      ],
      "metadata": {
        "id": "rf2O-vxo2TQj"
      }
    },
    {
      "cell_type": "code",
      "source": [
        "s = pd.Series(df['class'])\n",
        "s.describe()"
      ],
      "metadata": {
        "colab": {
          "base_uri": "https://localhost:8080/",
          "height": 0
        },
        "id": "cki1Tzfx15dT",
        "outputId": "a1bf2051-6f84-4e30-ae8a-b65dfdf0df2a"
      },
      "execution_count": 9,
      "outputs": [
        {
          "output_type": "execute_result",
          "data": {
            "text/plain": [
              "count             150\n",
              "unique              3\n",
              "top       Iris-setosa\n",
              "freq               50\n",
              "Name: class, dtype: object"
            ]
          },
          "metadata": {},
          "execution_count": 9
        }
      ]
    },
    {
      "cell_type": "markdown",
      "source": [
        "1.2\n",
        "Histograms: To illustrate the feature distributions, create a histogram for each feature in\n",
        "the dataset. You may plot each histogram individually or combine them all into a single plot.\n",
        "When generating histograms for this assignment, use the default number of bins. Recall that\n",
        "a histogram provides a graphical representation of the distribution of the data."
      ],
      "metadata": {
        "id": "Ur1EX68j3Eic"
      }
    },
    {
      "cell_type": "code",
      "source": [
        "pdhist = df.hist()"
      ],
      "metadata": {
        "colab": {
          "base_uri": "https://localhost:8080/",
          "height": 281
        },
        "id": "GAHSHp4b20Oi",
        "outputId": "6475fb3f-1bee-402a-ab14-eb2268f9d754"
      },
      "execution_count": 10,
      "outputs": [
        {
          "output_type": "display_data",
          "data": {
            "text/plain": [
              "<Figure size 432x288 with 4 Axes>"
            ],
            "image/png": "[encoded data removed]"
          },
          "metadata": {
            "needs_background": "light"
          }
        }
      ]
    },
    {
      "cell_type": "markdown",
      "source": [
        "Box Plots: To further understand the data, create a boxplot for each feature in the dataset.\n",
        "Present all the boxplots into a single plot. Recall that a boxplot provides a graphical repre-\n",
        "sentation of the location and variation of the data through their quartiles; they are especially\n",
        "useful for comparing distributions and identifying outliers."
      ],
      "metadata": {
        "id": "v7mCK4cI3gwh"
      }
    },
    {
      "cell_type": "code",
      "source": [
        "box = df.boxplot(grid=False, return_type='axes')"
      ],
      "metadata": {
        "colab": {
          "base_uri": "https://localhost:8080/",
          "height": 266
        },
        "id": "wSbvRy863XxR",
        "outputId": "f1551302-809e-4366-ecbc-5b10da3b83ce"
      },
      "execution_count": 11,
      "outputs": [
        {
          "output_type": "display_data",
          "data": {
            "text/plain": [
              "<Figure size 432x288 with 1 Axes>"
            ],
            "image/png": "[encoded data removed]"
          },
          "metadata": {
            "needs_background": "light"
          }
        }
      ]
    },
    {
      "cell_type": "markdown",
      "source": [
        "Pairwise Plot: To understand the relationship between the features, create a scatter plot for\n",
        "each pair of the features. If there are are n features in the dataset, there should be nC2plots. \n",
        "**ANSWER** : There are 8 different pairs of features that can be made for scatter plots if we consider only the features .i.e, excluding class. Scatter plot for the feature sepal length and sepal width"
      ],
      "metadata": {
        "id": "FmgwgvjeWj6I"
      }
    },
    {
      "cell_type": "code",
      "source": [
        "import matplotlib.pyplot as plt\n",
        "\n",
        "plt.scatter(df.sepal_length, df.sepal_width)"
      ],
      "metadata": {
        "colab": {
          "base_uri": "https://localhost:8080/",
          "height": 286
        },
        "id": "E8amAHdN3hjD",
        "outputId": "dd27f8cb-fabf-46f1-8069-428758851bd3"
      },
      "execution_count": 12,
      "outputs": [
        {
          "output_type": "execute_result",
          "data": {
            "text/plain": [
              "<matplotlib.collections.PathCollection at 0x7f2fec5b1ed0>"
            ]
          },
          "metadata": {},
          "execution_count": 12
        },
        {
          "output_type": "display_data",
          "data": {
            "text/plain": [
              "<Figure size 432x288 with 1 Axes>"
            ],
            "image/png": "[encoded data removed]"
          },
          "metadata": {
            "needs_background": "light"
          }
        }
      ]
    },
    {
      "cell_type": "markdown",
      "source": [
        "Scatter plot for the pair sepal length and petal length"
      ],
      "metadata": {
        "id": "gv3aUSHNWoP2"
      }
    },
    {
      "cell_type": "code",
      "source": [
        "plt.scatter(df.sepal_length, df.petal_length)"
      ],
      "metadata": {
        "colab": {
          "base_uri": "https://localhost:8080/",
          "height": 283
        },
        "id": "4LJ3OG-P5gN_",
        "outputId": "5e296287-fcbb-4b4d-9ee9-b54abc375d6c"
      },
      "execution_count": 13,
      "outputs": [
        {
          "output_type": "execute_result",
          "data": {
            "text/plain": [
              "<matplotlib.collections.PathCollection at 0x7f2fec501190>"
            ]
          },
          "metadata": {},
          "execution_count": 13
        },
        {
          "output_type": "display_data",
          "data": {
            "text/plain": [
              "<Figure size 432x288 with 1 Axes>"
            ],
            "image/png": "[encoded data removed]"
          },
          "metadata": {
            "needs_background": "light"
          }
        }
      ]
    },
    {
      "cell_type": "code",
      "source": [
        "plt.scatter(df.sepal_length, df.petal_width)"
      ],
      "metadata": {
        "colab": {
          "base_uri": "https://localhost:8080/",
          "height": 283
        },
        "id": "pG5-6bw34iqt",
        "outputId": "1c1e4316-60b4-414a-da4a-92772db9b9b0"
      },
      "execution_count": null,
      "outputs": [
        {
          "output_type": "execute_result",
          "data": {
            "text/plain": [
              "<matplotlib.collections.PathCollection at 0x7f732944a810>"
            ]
          },
          "metadata": {},
          "execution_count": 55
        },
        {
          "output_type": "display_data",
          "data": {
            "text/plain": [
              "<Figure size 432x288 with 1 Axes>"
            ],
            "image/png": "[encoded data removed]"
          },
          "metadata": {
            "needs_background": "light"
          }
        }
      ]
    },
    {
      "cell_type": "code",
      "source": [
        "plt.scatter(df.sepal_width, df.petal_length)"
      ],
      "metadata": {
        "colab": {
          "base_uri": "https://localhost:8080/",
          "height": 283
        },
        "id": "pwtdkFYc4fl6",
        "outputId": "a52487cf-90a7-4f3a-ece9-e71e41cc736a"
      },
      "execution_count": null,
      "outputs": [
        {
          "output_type": "execute_result",
          "data": {
            "text/plain": [
              "<matplotlib.collections.PathCollection at 0x7f7329e0df10>"
            ]
          },
          "metadata": {},
          "execution_count": 56
        },
        {
          "output_type": "display_data",
          "data": {
            "text/plain": [
              "<Figure size 432x288 with 1 Axes>"
            ],
            "image/png": "[encoded data removed]"
          },
          "metadata": {
            "needs_background": "light"
          }
        }
      ]
    },
    {
      "cell_type": "code",
      "source": [
        "plt.scatter(df.sepal_width, df.petal_width)"
      ],
      "metadata": {
        "colab": {
          "base_uri": "https://localhost:8080/",
          "height": 283
        },
        "id": "P5XhI7Wh5yWN",
        "outputId": "d286f7fc-fd53-466f-aceb-1efd495cb558"
      },
      "execution_count": null,
      "outputs": [
        {
          "output_type": "execute_result",
          "data": {
            "text/plain": [
              "<matplotlib.collections.PathCollection at 0x7f732a09f610>"
            ]
          },
          "metadata": {},
          "execution_count": 57
        },
        {
          "output_type": "display_data",
          "data": {
            "text/plain": [
              "<Figure size 432x288 with 1 Axes>"
            ],
            "image/png": "[encoded data removed]"
          },
          "metadata": {
            "needs_background": "light"
          }
        }
      ]
    },
    {
      "cell_type": "code",
      "source": [
        "plt.scatter(df.petal_length, df.petal_width)"
      ],
      "metadata": {
        "colab": {
          "base_uri": "https://localhost:8080/",
          "height": 283
        },
        "id": "lpWORqh056A0",
        "outputId": "bb9f09c8-02ee-4c6a-babc-757366886795"
      },
      "execution_count": null,
      "outputs": [
        {
          "output_type": "execute_result",
          "data": {
            "text/plain": [
              "<matplotlib.collections.PathCollection at 0x7f732a08e210>"
            ]
          },
          "metadata": {},
          "execution_count": 58
        },
        {
          "output_type": "display_data",
          "data": {
            "text/plain": [
              "<Figure size 432x288 with 1 Axes>"
            ],
            "image/png": "[encoded data removed]"
          },
          "metadata": {
            "needs_background": "light"
          }
        }
      ]
    },
    {
      "cell_type": "markdown",
      "source": [
        "Scatter plot of all features in one plot"
      ],
      "metadata": {
        "id": "X7b6MniAXexI"
      }
    },
    {
      "cell_type": "code",
      "source": [
        "plt.figure(figsize=(2,1))\n",
        "scatter_matrix(df)\n",
        "plt.show()"
      ],
      "metadata": {
        "colab": {
          "base_uri": "https://localhost:8080/",
          "height": 306
        },
        "id": "kJj5kc0i6i8z",
        "outputId": "a3d2238c-3bb2-4b88-a86e-4eb331f78bde"
      },
      "execution_count": 24,
      "outputs": [
        {
          "output_type": "display_data",
          "data": {
            "text/plain": [
              "<Figure size 144x72 with 0 Axes>"
            ]
          },
          "metadata": {}
        },
        {
          "output_type": "display_data",
          "data": {
            "text/plain": [
              "<Figure size 432x288 with 16 Axes>"
            ],
            "image/png": "[encoded data removed]"
          },
          "metadata": {
            "needs_background": "light"
          }
        }
      ]
    },
    {
      "cell_type": "markdown",
      "source": [
        "Class-wise Visualization: Create histograms for each feature in a similar way for each of\n",
        "the different classes present in the data.\n",
        "1. Sepal length by class"
      ],
      "metadata": {
        "id": "DYo8HNObXjHp"
      }
    },
    {
      "cell_type": "code",
      "source": [
        "df['sepal_length'].hist(by=df['class'])"
      ],
      "metadata": {
        "colab": {
          "base_uri": "https://localhost:8080/",
          "height": 365
        },
        "id": "ckPFSHMsD3nc",
        "outputId": "aee4253b-433a-4f5a-e752-a3990df9445b"
      },
      "execution_count": null,
      "outputs": [
        {
          "output_type": "execute_result",
          "data": {
            "text/plain": [
              "array([[<matplotlib.axes._subplots.AxesSubplot object at 0x7f73254b8990>,\n",
              "        <matplotlib.axes._subplots.AxesSubplot object at 0x7f7325633e10>],\n",
              "       [<matplotlib.axes._subplots.AxesSubplot object at 0x7f732548a990>,\n",
              "        <matplotlib.axes._subplots.AxesSubplot object at 0x7f7325442e90>]],\n",
              "      dtype=object)"
            ]
          },
          "metadata": {},
          "execution_count": 90
        },
        {
          "output_type": "display_data",
          "data": {
            "text/plain": [
              "<Figure size 432x288 with 4 Axes>"
            ],
            "image/png": "[encoded data removed]"
          },
          "metadata": {
            "needs_background": "light"
          }
        }
      ]
    },
    {
      "cell_type": "markdown",
      "source": [
        "1. Sepal width by class"
      ],
      "metadata": {
        "id": "k6OBJfzfXomI"
      }
    },
    {
      "cell_type": "code",
      "source": [
        "df['sepal_width'].hist(by=df['class'])"
      ],
      "metadata": {
        "colab": {
          "base_uri": "https://localhost:8080/",
          "height": 375
        },
        "id": "-O_aFDPm71tR",
        "outputId": "26c43d0e-5220-400e-b9e7-065ad61670b7"
      },
      "execution_count": null,
      "outputs": [
        {
          "output_type": "execute_result",
          "data": {
            "text/plain": [
              "array([[<matplotlib.axes._subplots.AxesSubplot object at 0x7f732562ce90>,\n",
              "        <matplotlib.axes._subplots.AxesSubplot object at 0x7f73256241d0>],\n",
              "       [<matplotlib.axes._subplots.AxesSubplot object at 0x7f73255f3210>,\n",
              "        <matplotlib.axes._subplots.AxesSubplot object at 0x7f73255a6710>]],\n",
              "      dtype=object)"
            ]
          },
          "metadata": {},
          "execution_count": 89
        },
        {
          "output_type": "display_data",
          "data": {
            "text/plain": [
              "<Figure size 432x288 with 4 Axes>"
            ],
            "image/png": "[encoded data removed]"
          },
          "metadata": {
            "needs_background": "light"
          }
        }
      ]
    },
    {
      "cell_type": "markdown",
      "source": [
        "1. Petal length by class"
      ],
      "metadata": {
        "id": "NfrxtoONXp4t"
      }
    },
    {
      "cell_type": "code",
      "source": [
        "df['petal_length'].hist(by=df['class'])"
      ],
      "metadata": {
        "colab": {
          "base_uri": "https://localhost:8080/",
          "height": 365
        },
        "id": "9NG78vKZD6pQ",
        "outputId": "a4e8e534-05f5-4fb7-e1d3-4870460b5a97"
      },
      "execution_count": null,
      "outputs": [
        {
          "output_type": "execute_result",
          "data": {
            "text/plain": [
              "array([[<matplotlib.axes._subplots.AxesSubplot object at 0x7f7326f7b950>,\n",
              "        <matplotlib.axes._subplots.AxesSubplot object at 0x7f7326fba8d0>],\n",
              "       [<matplotlib.axes._subplots.AxesSubplot object at 0x7f7326cdc2d0>,\n",
              "        <matplotlib.axes._subplots.AxesSubplot object at 0x7f7326e99d10>]],\n",
              "      dtype=object)"
            ]
          },
          "metadata": {},
          "execution_count": 91
        },
        {
          "output_type": "display_data",
          "data": {
            "text/plain": [
              "<Figure size 432x288 with 4 Axes>"
            ],
            "image/png": "[encoded data removed]"
          },
          "metadata": {
            "needs_background": "light"
          }
        }
      ]
    },
    {
      "cell_type": "markdown",
      "source": [
        "1. Petal width by class"
      ],
      "metadata": {
        "id": "ZRlV-RxDXsaQ"
      }
    },
    {
      "cell_type": "code",
      "source": [
        "df['petal_width'].hist(by=df['class'])"
      ],
      "metadata": {
        "colab": {
          "base_uri": "https://localhost:8080/",
          "height": 381
        },
        "id": "RwQ16UHAD8-O",
        "outputId": "36719d34-8a38-41c4-a81e-c968376a60ec"
      },
      "execution_count": null,
      "outputs": [
        {
          "output_type": "execute_result",
          "data": {
            "text/plain": [
              "array([[<matplotlib.axes._subplots.AxesSubplot object at 0x7f7326e2b2d0>,\n",
              "        <matplotlib.axes._subplots.AxesSubplot object at 0x7f7326e62610>],\n",
              "       [<matplotlib.axes._subplots.AxesSubplot object at 0x7f73290df510>,\n",
              "        <matplotlib.axes._subplots.AxesSubplot object at 0x7f7326e43850>]],\n",
              "      dtype=object)"
            ]
          },
          "metadata": {},
          "execution_count": 92
        },
        {
          "output_type": "display_data",
          "data": {
            "text/plain": [
              "<Figure size 432x288 with 4 Axes>"
            ],
            "image/png": "[encoded data removed]"
          },
          "metadata": {
            "needs_background": "light"
          }
        }
      ]
    },
    {
      "cell_type": "markdown",
      "source": [
        "Conceptual Questions\n",
        "\n"
      ],
      "metadata": {
        "id": "kEbh6uMXFdMO"
      }
    },
    {
      "cell_type": "markdown",
      "source": [
        "1. How many features are there? What are the Types of the features (e.g., numeric,\n",
        "nominal, discrete, continuous)?\n",
        "**ANSWER** : There are 4 features, sepal width, sepal length, petal width and petal length. All of the features are numeric. "
      ],
      "metadata": {
        "id": "kkBoBosxFyCu"
      }
    },
    {
      "cell_type": "markdown",
      "source": [
        "2. From the histograms of the whole data, how do the shapes of the histograms for petal\n",
        "length and petal width differ from those for sepal length and sepal width? Is there a\n",
        "particular value of petal length (which ranges from 1.0 to 6.9) where the distribution of\n",
        "petal lengths (as illustrated by the histogram) could be best segmented into two parts?\n",
        "**ANSWER** : The shapes of petal length and petal width are bi-modal and left-skewed whereas the sepal length and speal width histograms are closer to bell-curve.\n",
        "In petal length, the gap between 2-3 is the best range for it to be segmented into two parts."
      ],
      "metadata": {
        "id": "WXK8MEciFnW7"
      }
    },
    {
      "cell_type": "markdown",
      "source": [
        "3. Based upon these boxplots, is there a pair of features that appear to have significantly\n",
        "different medians? Recall that the degree of overlap between variability is an important\n",
        "initial indicator of the likelihood that differences in means or medians are meaningful.\n",
        "Also, based solely upon the box plots, which feature appears to explain the greatest\n",
        "amount of the data?\n",
        "**ANSWER** : Yes. Sepal length (median ~5.8) and petal width(median ~1.5) seem to have significantly different medians. \n",
        "Petal length appears to have the greatest range of data. "
      ],
      "metadata": {
        "id": "a4VPAvhJF-zV"
      }
    },
    {
      "cell_type": "markdown",
      "source": [
        "4. From the pairwise plots of the features, which features are most correlated from the\n",
        "plots? Mention at least three pairs.\n",
        "**ANSWER** : \n",
        "\n",
        "*   Petal length and petal width are highly correlated.\n",
        "*   Sepal length and petal length have a good correlation.\n",
        "*   Sepal length and petal width also have a good correlation.\n",
        "\n",
        "\n",
        "\n"
      ],
      "metadata": {
        "id": "X5qSdkBuJZcn"
      }
    },
    {
      "cell_type": "markdown",
      "source": [
        "5. Compare the histograms of each class to the histograms of the whole dataset. What\n",
        "differences do you see in the shapes?\n",
        "**ANSWER** : The overall shape of the histograms remain the same but the classwise histograms appear to have a smooth distribution. \n",
        "\n"
      ],
      "metadata": {
        "id": "uo8Gjh0kX60L"
      }
    },
    {
      "cell_type": "markdown",
      "source": [
        "Read and load the data from the excel file"
      ],
      "metadata": {
        "id": "f--aChATXxvH"
      }
    },
    {
      "cell_type": "code",
      "source": [
        "airquality=pd.read_excel('/AirQualityUCI.xlsx')"
      ],
      "metadata": {
        "id": "XovLFch0c3OM"
      },
      "execution_count": null,
      "outputs": []
    },
    {
      "cell_type": "code",
      "source": [
        "airquality.head()"
      ],
      "metadata": {
        "colab": {
          "base_uri": "https://localhost:8080/",
          "height": 250
        },
        "id": "N_jQuH2mmNBC",
        "outputId": "a0c26953-1995-4b15-cf46-023aabf3b0d1"
      },
      "execution_count": null,
      "outputs": [
        {
          "output_type": "execute_result",
          "data": {
            "text/plain": [
              "        Date      Time  CO(GT)  PT08.S1(CO)  NMHC(GT)   C6H6(GT)  \\\n",
              "0 2004-03-10  18:00:00     2.6      1360.00       150  11.881723   \n",
              "1 2004-03-10  19:00:00     2.0      1292.25       112   9.397165   \n",
              "2 2004-03-10  20:00:00     2.2      1402.00        88   8.997817   \n",
              "3 2004-03-10  21:00:00     2.2      1375.50        80   9.228796   \n",
              "4 2004-03-10  22:00:00     1.6      1272.25        51   6.518224   \n",
              "\n",
              "   PT08.S2(NMHC)  NOx(GT)  PT08.S3(NOx)  NO2(GT)  PT08.S4(NO2)  PT08.S5(O3)  \\\n",
              "0        1045.50    166.0       1056.25    113.0       1692.00      1267.50   \n",
              "1         954.75    103.0       1173.75     92.0       1558.75       972.25   \n",
              "2         939.25    131.0       1140.00    114.0       1554.50      1074.00   \n",
              "3         948.25    172.0       1092.00    122.0       1583.75      1203.25   \n",
              "4         835.50    131.0       1205.00    116.0       1490.00      1110.00   \n",
              "\n",
              "       T         RH        AH  \n",
              "0  13.60  48.875001  0.757754  \n",
              "1  13.30  47.700000  0.725487  \n",
              "2  11.90  53.975000  0.750239  \n",
              "3  11.00  60.000000  0.786713  \n",
              "4  11.15  59.575001  0.788794  "
            ],
            "text/html": [
              "\n",
              "  <div id=\"df-578f2d10-c0ac-486d-9b2e-8354ba07851e\">\n",
              "    <div class=\"colab-df-container\">\n",
              "      <div>\n",
              "<style scoped>\n",
              "    .dataframe tbody tr th:only-of-type {\n",
              "        vertical-align: middle;\n",
              "    }\n",
              "\n",
              "    .dataframe tbody tr th {\n",
              "        vertical-align: top;\n",
              "    }\n",
              "\n",
              "    .dataframe thead th {\n",
              "        text-align: right;\n",
              "    }\n",
              "</style>\n",
              "<table border=\"1\" class=\"dataframe\">\n",
              "  <thead>\n",
              "    <tr style=\"text-align: right;\">\n",
              "      <th></th>\n",
              "      <th>Date</th>\n",
              "      <th>Time</th>\n",
              "      <th>CO(GT)</th>\n",
              "      <th>PT08.S1(CO)</th>\n",
              "      <th>NMHC(GT)</th>\n",
              "      <th>C6H6(GT)</th>\n",
              "      <th>PT08.S2(NMHC)</th>\n",
              "      <th>NOx(GT)</th>\n",
              "      <th>PT08.S3(NOx)</th>\n",
              "      <th>NO2(GT)</th>\n",
              "      <th>PT08.S4(NO2)</th>\n",
              "      <th>PT08.S5(O3)</th>\n",
              "      <th>T</th>\n",
              "      <th>RH</th>\n",
              "      <th>AH</th>\n",
              "    </tr>\n",
              "  </thead>\n",
              "  <tbody>\n",
              "    <tr>\n",
              "      <th>0</th>\n",
              "      <td>2004-03-10</td>\n",
              "      <td>18:00:00</td>\n",
              "      <td>2.6</td>\n",
              "      <td>1360.00</td>\n",
              "      <td>150</td>\n",
              "      <td>11.881723</td>\n",
              "      <td>1045.50</td>\n",
              "      <td>166.0</td>\n",
              "      <td>1056.25</td>\n",
              "      <td>113.0</td>\n",
              "      <td>1692.00</td>\n",
              "      <td>1267.50</td>\n",
              "      <td>13.60</td>\n",
              "      <td>48.875001</td>\n",
              "      <td>0.757754</td>\n",
              "    </tr>\n",
              "    <tr>\n",
              "      <th>1</th>\n",
              "      <td>2004-03-10</td>\n",
              "      <td>19:00:00</td>\n",
              "      <td>2.0</td>\n",
              "      <td>1292.25</td>\n",
              "      <td>112</td>\n",
              "      <td>9.397165</td>\n",
              "      <td>954.75</td>\n",
              "      <td>103.0</td>\n",
              "      <td>1173.75</td>\n",
              "      <td>92.0</td>\n",
              "      <td>1558.75</td>\n",
              "      <td>972.25</td>\n",
              "      <td>13.30</td>\n",
              "      <td>47.700000</td>\n",
              "      <td>0.725487</td>\n",
              "    </tr>\n",
              "    <tr>\n",
              "      <th>2</th>\n",
              "      <td>2004-03-10</td>\n",
              "      <td>20:00:00</td>\n",
              "      <td>2.2</td>\n",
              "      <td>1402.00</td>\n",
              "      <td>88</td>\n",
              "      <td>8.997817</td>\n",
              "      <td>939.25</td>\n",
              "      <td>131.0</td>\n",
              "      <td>1140.00</td>\n",
              "      <td>114.0</td>\n",
              "      <td>1554.50</td>\n",
              "      <td>1074.00</td>\n",
              "      <td>11.90</td>\n",
              "      <td>53.975000</td>\n",
              "      <td>0.750239</td>\n",
              "    </tr>\n",
              "    <tr>\n",
              "      <th>3</th>\n",
              "      <td>2004-03-10</td>\n",
              "      <td>21:00:00</td>\n",
              "      <td>2.2</td>\n",
              "      <td>1375.50</td>\n",
              "      <td>80</td>\n",
              "      <td>9.228796</td>\n",
              "      <td>948.25</td>\n",
              "      <td>172.0</td>\n",
              "      <td>1092.00</td>\n",
              "      <td>122.0</td>\n",
              "      <td>1583.75</td>\n",
              "      <td>1203.25</td>\n",
              "      <td>11.00</td>\n",
              "      <td>60.000000</td>\n",
              "      <td>0.786713</td>\n",
              "    </tr>\n",
              "    <tr>\n",
              "      <th>4</th>\n",
              "      <td>2004-03-10</td>\n",
              "      <td>22:00:00</td>\n",
              "      <td>1.6</td>\n",
              "      <td>1272.25</td>\n",
              "      <td>51</td>\n",
              "      <td>6.518224</td>\n",
              "      <td>835.50</td>\n",
              "      <td>131.0</td>\n",
              "      <td>1205.00</td>\n",
              "      <td>116.0</td>\n",
              "      <td>1490.00</td>\n",
              "      <td>1110.00</td>\n",
              "      <td>11.15</td>\n",
              "      <td>59.575001</td>\n",
              "      <td>0.788794</td>\n",
              "    </tr>\n",
              "  </tbody>\n",
              "</table>\n",
              "</div>\n",
              "      <button class=\"colab-df-convert\" onclick=\"convertToInteractive('df-578f2d10-c0ac-486d-9b2e-8354ba07851e')\"\n",
              "              title=\"Convert this dataframe to an interactive table.\"\n",
              "              style=\"display:none;\">\n",
              "        \n",
              "  <svg xmlns=\"http://www.w3.org/2000/svg\" height=\"24px\"viewBox=\"0 0 24 24\"\n",
              "       width=\"24px\">\n",
              "    <path d=\"M0 0h24v24H0V0z\" fill=\"none\"/>\n",
              "    <path d=\"M18.56 5.44l.94 2.06.94-2.06 2.06-.94-2.06-.94-.94-2.06-.94 2.06-2.06.94zm-11 1L8.5 8.5l.94-2.06 2.06-.94-2.06-.94L8.5 2.5l-.94 2.06-2.06.94zm10 10l.94 2.06.94-2.06 2.06-.94-2.06-.94-.94-2.06-.94 2.06-2.06.94z\"/><path d=\"M17.41 7.96l-1.37-1.37c-.4-.4-.92-.59-1.43-.59-.52 0-1.04.2-1.43.59L10.3 9.45l-7.72 7.72c-.78.78-.78 2.05 0 2.83L4 21.41c.39.39.9.59 1.41.59.51 0 1.02-.2 1.41-.59l7.78-7.78 2.81-2.81c.8-.78.8-2.07 0-2.86zM5.41 20L4 18.59l7.72-7.72 1.47 1.35L5.41 20z\"/>\n",
              "  </svg>\n",
              "      </button>\n",
              "      \n",
              "  <style>\n",
              "    .colab-df-container {\n",
              "      display:flex;\n",
              "      flex-wrap:wrap;\n",
              "      gap: 12px;\n",
              "    }\n",
              "\n",
              "    .colab-df-convert {\n",
              "      background-color: #E8F0FE;\n",
              "      border: none;\n",
              "      border-radius: 50%;\n",
              "      cursor: pointer;\n",
              "      display: none;\n",
              "      fill: #1967D2;\n",
              "      height: 32px;\n",
              "      padding: 0 0 0 0;\n",
              "      width: 32px;\n",
              "    }\n",
              "\n",
              "    .colab-df-convert:hover {\n",
              "      background-color: #E2EBFA;\n",
              "      box-shadow: 0px 1px 2px rgba(60, 64, 67, 0.3), 0px 1px 3px 1px rgba(60, 64, 67, 0.15);\n",
              "      fill: #174EA6;\n",
              "    }\n",
              "\n",
              "    [theme=dark] .colab-df-convert {\n",
              "      background-color: #3B4455;\n",
              "      fill: #D2E3FC;\n",
              "    }\n",
              "\n",
              "    [theme=dark] .colab-df-convert:hover {\n",
              "      background-color: #434B5C;\n",
              "      box-shadow: 0px 1px 3px 1px rgba(0, 0, 0, 0.15);\n",
              "      filter: drop-shadow(0px 1px 2px rgba(0, 0, 0, 0.3));\n",
              "      fill: #FFFFFF;\n",
              "    }\n",
              "  </style>\n",
              "\n",
              "      <script>\n",
              "        const buttonEl =\n",
              "          document.querySelector('#df-578f2d10-c0ac-486d-9b2e-8354ba07851e button.colab-df-convert');\n",
              "        buttonEl.style.display =\n",
              "          google.colab.kernel.accessAllowed ? 'block' : 'none';\n",
              "\n",
              "        async function convertToInteractive(key) {\n",
              "          const element = document.querySelector('#df-578f2d10-c0ac-486d-9b2e-8354ba07851e');\n",
              "          const dataTable =\n",
              "            await google.colab.kernel.invokeFunction('convertToInteractive',\n",
              "                                                     [key], {});\n",
              "          if (!dataTable) return;\n",
              "\n",
              "          const docLinkHtml = 'Like what you see? Visit the ' +\n",
              "            '<a target=\"_blank\" href=https://colab.research.google.com/notebooks/data_table.ipynb>data table notebook</a>'\n",
              "            + ' to learn more about interactive tables.';\n",
              "          element.innerHTML = '';\n",
              "          dataTable['output_type'] = 'display_data';\n",
              "          await google.colab.output.renderOutput(dataTable, element);\n",
              "          const docLink = document.createElement('div');\n",
              "          docLink.innerHTML = docLinkHtml;\n",
              "          element.appendChild(docLink);\n",
              "        }\n",
              "      </script>\n",
              "    </div>\n",
              "  </div>\n",
              "  "
            ]
          },
          "metadata": {},
          "execution_count": 42
        }
      ]
    },
    {
      "cell_type": "markdown",
      "source": [
        "2.1 As in Section 1, Compute and display summary statistics for each feature available in the\n",
        "dataset. These must include the minimum value, maximum value, mean, range, standard\n",
        "deviation, variance, count, and 25:50:75% percentiles."
      ],
      "metadata": {
        "id": "rZscFro5X3Sa"
      }
    },
    {
      "cell_type": "code",
      "source": [
        "airquality.describe()"
      ],
      "metadata": {
        "colab": {
          "base_uri": "https://localhost:8080/",
          "height": 364
        },
        "id": "ns0qx4dxmkGG",
        "outputId": "5b087ae9-7734-4ba3-bbe1-9c3bec18e09b"
      },
      "execution_count": null,
      "outputs": [
        {
          "output_type": "execute_result",
          "data": {
            "text/plain": [
              "            CO(GT)  PT08.S1(CO)     NMHC(GT)     C6H6(GT)  PT08.S2(NMHC)  \\\n",
              "count  9357.000000  9357.000000  9357.000000  9357.000000    9357.000000   \n",
              "mean    -34.207524  1048.869652  -159.090093     1.865576     894.475963   \n",
              "std      77.657170   329.817015   139.789093    41.380154     342.315902   \n",
              "min    -200.000000  -200.000000  -200.000000  -200.000000    -200.000000   \n",
              "25%       0.600000   921.000000  -200.000000     4.004958     711.000000   \n",
              "50%       1.500000  1052.500000  -200.000000     7.886653     894.500000   \n",
              "75%       2.600000  1221.250000  -200.000000    13.636091    1104.750000   \n",
              "max      11.900000  2039.750000  1189.000000    63.741476    2214.000000   \n",
              "\n",
              "           NOx(GT)  PT08.S3(NOx)      NO2(GT)  PT08.S4(NO2)  PT08.S5(O3)  \\\n",
              "count  9357.000000   9357.000000  9357.000000   9357.000000  9357.000000   \n",
              "mean    168.604200    794.872333    58.135898   1391.363266   974.951534   \n",
              "std     257.424561    321.977031   126.931428    467.192382   456.922728   \n",
              "min    -200.000000   -200.000000  -200.000000   -200.000000  -200.000000   \n",
              "25%      50.000000    637.000000    53.000000   1184.750000   699.750000   \n",
              "50%     141.000000    794.250000    96.000000   1445.500000   942.000000   \n",
              "75%     284.200000    960.250000   133.000000   1662.000000  1255.250000   \n",
              "max    1479.000000   2682.750000   339.700000   2775.000000  2522.750000   \n",
              "\n",
              "                 T           RH           AH  \n",
              "count  9357.000000  9357.000000  9357.000000  \n",
              "mean      9.776600    39.483611    -6.837604  \n",
              "std      43.203438    51.215645    38.976670  \n",
              "min    -200.000000  -200.000000  -200.000000  \n",
              "25%      10.950000    34.050000     0.692275  \n",
              "50%      17.200000    48.550000     0.976823  \n",
              "75%      24.075000    61.875000     1.296223  \n",
              "max      44.600000    88.725000     2.231036  "
            ],
            "text/html": [
              "\n",
              "  <div id=\"df-d8b06959-309a-46a5-a83c-e04847e298d9\">\n",
              "    <div class=\"colab-df-container\">\n",
              "      <div>\n",
              "<style scoped>\n",
              "    .dataframe tbody tr th:only-of-type {\n",
              "        vertical-align: middle;\n",
              "    }\n",
              "\n",
              "    .dataframe tbody tr th {\n",
              "        vertical-align: top;\n",
              "    }\n",
              "\n",
              "    .dataframe thead th {\n",
              "        text-align: right;\n",
              "    }\n",
              "</style>\n",
              "<table border=\"1\" class=\"dataframe\">\n",
              "  <thead>\n",
              "    <tr style=\"text-align: right;\">\n",
              "      <th></th>\n",
              "      <th>CO(GT)</th>\n",
              "      <th>PT08.S1(CO)</th>\n",
              "      <th>NMHC(GT)</th>\n",
              "      <th>C6H6(GT)</th>\n",
              "      <th>PT08.S2(NMHC)</th>\n",
              "      <th>NOx(GT)</th>\n",
              "      <th>PT08.S3(NOx)</th>\n",
              "      <th>NO2(GT)</th>\n",
              "      <th>PT08.S4(NO2)</th>\n",
              "      <th>PT08.S5(O3)</th>\n",
              "      <th>T</th>\n",
              "      <th>RH</th>\n",
              "      <th>AH</th>\n",
              "    </tr>\n",
              "  </thead>\n",
              "  <tbody>\n",
              "    <tr>\n",
              "      <th>count</th>\n",
              "      <td>9357.000000</td>\n",
              "      <td>9357.000000</td>\n",
              "      <td>9357.000000</td>\n",
              "      <td>9357.000000</td>\n",
              "      <td>9357.000000</td>\n",
              "      <td>9357.000000</td>\n",
              "      <td>9357.000000</td>\n",
              "      <td>9357.000000</td>\n",
              "      <td>9357.000000</td>\n",
              "      <td>9357.000000</td>\n",
              "      <td>9357.000000</td>\n",
              "      <td>9357.000000</td>\n",
              "      <td>9357.000000</td>\n",
              "    </tr>\n",
              "    <tr>\n",
              "      <th>mean</th>\n",
              "      <td>-34.207524</td>\n",
              "      <td>1048.869652</td>\n",
              "      <td>-159.090093</td>\n",
              "      <td>1.865576</td>\n",
              "      <td>894.475963</td>\n",
              "      <td>168.604200</td>\n",
              "      <td>794.872333</td>\n",
              "      <td>58.135898</td>\n",
              "      <td>1391.363266</td>\n",
              "      <td>974.951534</td>\n",
              "      <td>9.776600</td>\n",
              "      <td>39.483611</td>\n",
              "      <td>-6.837604</td>\n",
              "    </tr>\n",
              "    <tr>\n",
              "      <th>std</th>\n",
              "      <td>77.657170</td>\n",
              "      <td>329.817015</td>\n",
              "      <td>139.789093</td>\n",
              "      <td>41.380154</td>\n",
              "      <td>342.315902</td>\n",
              "      <td>257.424561</td>\n",
              "      <td>321.977031</td>\n",
              "      <td>126.931428</td>\n",
              "      <td>467.192382</td>\n",
              "      <td>456.922728</td>\n",
              "      <td>43.203438</td>\n",
              "      <td>51.215645</td>\n",
              "      <td>38.976670</td>\n",
              "    </tr>\n",
              "    <tr>\n",
              "      <th>min</th>\n",
              "      <td>-200.000000</td>\n",
              "      <td>-200.000000</td>\n",
              "      <td>-200.000000</td>\n",
              "      <td>-200.000000</td>\n",
              "      <td>-200.000000</td>\n",
              "      <td>-200.000000</td>\n",
              "      <td>-200.000000</td>\n",
              "      <td>-200.000000</td>\n",
              "      <td>-200.000000</td>\n",
              "      <td>-200.000000</td>\n",
              "      <td>-200.000000</td>\n",
              "      <td>-200.000000</td>\n",
              "      <td>-200.000000</td>\n",
              "    </tr>\n",
              "    <tr>\n",
              "      <th>25%</th>\n",
              "      <td>0.600000</td>\n",
              "      <td>921.000000</td>\n",
              "      <td>-200.000000</td>\n",
              "      <td>4.004958</td>\n",
              "      <td>711.000000</td>\n",
              "      <td>50.000000</td>\n",
              "      <td>637.000000</td>\n",
              "      <td>53.000000</td>\n",
              "      <td>1184.750000</td>\n",
              "      <td>699.750000</td>\n",
              "      <td>10.950000</td>\n",
              "      <td>34.050000</td>\n",
              "      <td>0.692275</td>\n",
              "    </tr>\n",
              "    <tr>\n",
              "      <th>50%</th>\n",
              "      <td>1.500000</td>\n",
              "      <td>1052.500000</td>\n",
              "      <td>-200.000000</td>\n",
              "      <td>7.886653</td>\n",
              "      <td>894.500000</td>\n",
              "      <td>141.000000</td>\n",
              "      <td>794.250000</td>\n",
              "      <td>96.000000</td>\n",
              "      <td>1445.500000</td>\n",
              "      <td>942.000000</td>\n",
              "      <td>17.200000</td>\n",
              "      <td>48.550000</td>\n",
              "      <td>0.976823</td>\n",
              "    </tr>\n",
              "    <tr>\n",
              "      <th>75%</th>\n",
              "      <td>2.600000</td>\n",
              "      <td>1221.250000</td>\n",
              "      <td>-200.000000</td>\n",
              "      <td>13.636091</td>\n",
              "      <td>1104.750000</td>\n",
              "      <td>284.200000</td>\n",
              "      <td>960.250000</td>\n",
              "      <td>133.000000</td>\n",
              "      <td>1662.000000</td>\n",
              "      <td>1255.250000</td>\n",
              "      <td>24.075000</td>\n",
              "      <td>61.875000</td>\n",
              "      <td>1.296223</td>\n",
              "    </tr>\n",
              "    <tr>\n",
              "      <th>max</th>\n",
              "      <td>11.900000</td>\n",
              "      <td>2039.750000</td>\n",
              "      <td>1189.000000</td>\n",
              "      <td>63.741476</td>\n",
              "      <td>2214.000000</td>\n",
              "      <td>1479.000000</td>\n",
              "      <td>2682.750000</td>\n",
              "      <td>339.700000</td>\n",
              "      <td>2775.000000</td>\n",
              "      <td>2522.750000</td>\n",
              "      <td>44.600000</td>\n",
              "      <td>88.725000</td>\n",
              "      <td>2.231036</td>\n",
              "    </tr>\n",
              "  </tbody>\n",
              "</table>\n",
              "</div>\n",
              "      <button class=\"colab-df-convert\" onclick=\"convertToInteractive('df-d8b06959-309a-46a5-a83c-e04847e298d9')\"\n",
              "              title=\"Convert this dataframe to an interactive table.\"\n",
              "              style=\"display:none;\">\n",
              "        \n",
              "  <svg xmlns=\"http://www.w3.org/2000/svg\" height=\"24px\"viewBox=\"0 0 24 24\"\n",
              "       width=\"24px\">\n",
              "    <path d=\"M0 0h24v24H0V0z\" fill=\"none\"/>\n",
              "    <path d=\"M18.56 5.44l.94 2.06.94-2.06 2.06-.94-2.06-.94-.94-2.06-.94 2.06-2.06.94zm-11 1L8.5 8.5l.94-2.06 2.06-.94-2.06-.94L8.5 2.5l-.94 2.06-2.06.94zm10 10l.94 2.06.94-2.06 2.06-.94-2.06-.94-.94-2.06-.94 2.06-2.06.94z\"/><path d=\"M17.41 7.96l-1.37-1.37c-.4-.4-.92-.59-1.43-.59-.52 0-1.04.2-1.43.59L10.3 9.45l-7.72 7.72c-.78.78-.78 2.05 0 2.83L4 21.41c.39.39.9.59 1.41.59.51 0 1.02-.2 1.41-.59l7.78-7.78 2.81-2.81c.8-.78.8-2.07 0-2.86zM5.41 20L4 18.59l7.72-7.72 1.47 1.35L5.41 20z\"/>\n",
              "  </svg>\n",
              "      </button>\n",
              "      \n",
              "  <style>\n",
              "    .colab-df-container {\n",
              "      display:flex;\n",
              "      flex-wrap:wrap;\n",
              "      gap: 12px;\n",
              "    }\n",
              "\n",
              "    .colab-df-convert {\n",
              "      background-color: #E8F0FE;\n",
              "      border: none;\n",
              "      border-radius: 50%;\n",
              "      cursor: pointer;\n",
              "      display: none;\n",
              "      fill: #1967D2;\n",
              "      height: 32px;\n",
              "      padding: 0 0 0 0;\n",
              "      width: 32px;\n",
              "    }\n",
              "\n",
              "    .colab-df-convert:hover {\n",
              "      background-color: #E2EBFA;\n",
              "      box-shadow: 0px 1px 2px rgba(60, 64, 67, 0.3), 0px 1px 3px 1px rgba(60, 64, 67, 0.15);\n",
              "      fill: #174EA6;\n",
              "    }\n",
              "\n",
              "    [theme=dark] .colab-df-convert {\n",
              "      background-color: #3B4455;\n",
              "      fill: #D2E3FC;\n",
              "    }\n",
              "\n",
              "    [theme=dark] .colab-df-convert:hover {\n",
              "      background-color: #434B5C;\n",
              "      box-shadow: 0px 1px 3px 1px rgba(0, 0, 0, 0.15);\n",
              "      filter: drop-shadow(0px 1px 2px rgba(0, 0, 0, 0.3));\n",
              "      fill: #FFFFFF;\n",
              "    }\n",
              "  </style>\n",
              "\n",
              "      <script>\n",
              "        const buttonEl =\n",
              "          document.querySelector('#df-d8b06959-309a-46a5-a83c-e04847e298d9 button.colab-df-convert');\n",
              "        buttonEl.style.display =\n",
              "          google.colab.kernel.accessAllowed ? 'block' : 'none';\n",
              "\n",
              "        async function convertToInteractive(key) {\n",
              "          const element = document.querySelector('#df-d8b06959-309a-46a5-a83c-e04847e298d9');\n",
              "          const dataTable =\n",
              "            await google.colab.kernel.invokeFunction('convertToInteractive',\n",
              "                                                     [key], {});\n",
              "          if (!dataTable) return;\n",
              "\n",
              "          const docLinkHtml = 'Like what you see? Visit the ' +\n",
              "            '<a target=\"_blank\" href=https://colab.research.google.com/notebooks/data_table.ipynb>data table notebook</a>'\n",
              "            + ' to learn more about interactive tables.';\n",
              "          element.innerHTML = '';\n",
              "          dataTable['output_type'] = 'display_data';\n",
              "          await google.colab.output.renderOutput(dataTable, element);\n",
              "          const docLink = document.createElement('div');\n",
              "          docLink.innerHTML = docLinkHtml;\n",
              "          element.appendChild(docLink);\n",
              "        }\n",
              "      </script>\n",
              "    </div>\n",
              "  </div>\n",
              "  "
            ]
          },
          "metadata": {},
          "execution_count": 13
        }
      ]
    },
    {
      "cell_type": "markdown",
      "source": [
        "2.2 Data Visualization [15 Points]\n",
        "Also as in Section 1, create histograms and boxplots for the dataset with and without outliers.\n",
        "You may use showfliers=False to remove outliers from the boxplots.\n",
        "a. Histograms for the dataset with outliers."
      ],
      "metadata": {
        "id": "MRGrjjMmYAHh"
      }
    },
    {
      "cell_type": "code",
      "source": [
        "airquality_hist_outliers = airquality.hist()"
      ],
      "metadata": {
        "colab": {
          "base_uri": "https://localhost:8080/",
          "height": 281
        },
        "id": "MEEVZFLJrPLK",
        "outputId": "2a39035b-19ea-4f14-9e41-b97fc77db0b3"
      },
      "execution_count": null,
      "outputs": [
        {
          "output_type": "display_data",
          "data": {
            "text/plain": [
              "<Figure size 432x288 with 16 Axes>"
            ],
            "image/png": "[encoded data removed]"
          },
          "metadata": {
            "needs_background": "light"
          }
        }
      ]
    },
    {
      "cell_type": "markdown",
      "source": [
        "b. Boxplot for dataset with outliers"
      ],
      "metadata": {
        "id": "gnI58lnPYH0a"
      }
    },
    {
      "cell_type": "code",
      "source": [
        "airquality_box = airquality.boxplot(grid=False, return_type='axes')"
      ],
      "metadata": {
        "colab": {
          "base_uri": "https://localhost:8080/",
          "height": 265
        },
        "id": "NkCPTe3arX0I",
        "outputId": "32d85353-109a-4059-eb8e-6f13879b083e"
      },
      "execution_count": null,
      "outputs": [
        {
          "output_type": "display_data",
          "data": {
            "text/plain": [
              "<Figure size 432x288 with 1 Axes>"
            ],
            "image/png": "[encoded data removed]"
          },
          "metadata": {
            "needs_background": "light"
          }
        }
      ]
    },
    {
      "cell_type": "markdown",
      "source": [
        "c. Boxplot for dataset without outliers."
      ],
      "metadata": {
        "id": "tJtX1CoHYQKK"
      }
    },
    {
      "cell_type": "code",
      "source": [
        "airquality_box_outliers = airquality.boxplot(grid=False, return_type='axes',showfliers=False)"
      ],
      "metadata": {
        "colab": {
          "base_uri": "https://localhost:8080/",
          "height": 269
        },
        "id": "jonTQ11Fvk74",
        "outputId": "b6c1eadf-1c68-4af4-a7f1-6e7fefd3be57"
      },
      "execution_count": null,
      "outputs": [
        {
          "output_type": "display_data",
          "data": {
            "text/plain": [
              "<Figure size 432x288 with 1 Axes>"
            ],
            "image/png": "[encoded data removed]"
          },
          "metadata": {
            "needs_background": "light"
          }
        }
      ]
    },
    {
      "cell_type": "markdown",
      "source": [
        "Calculating the IQR and the lower and upper outliers\n"
      ],
      "metadata": {
        "id": "E3g2b6c4YTP8"
      }
    },
    {
      "cell_type": "code",
      "source": [
        "Q1 = airquality.quantile(0.25)\n",
        "Q3 = airquality.quantile(0.75)\n",
        "IQR = Q3 - Q1\n",
        "\n",
        "scale = 2 #Q3-Q1 = (2.6-0.6)=2\n",
        "lower_lim = Q1 - scale*IQR\n",
        "upper_lim = Q3 + scale*IQR\n",
        "\n",
        "lower_outliers = (airquality[airquality.columns[2:13]] < lower_lim)\n",
        "upper_outliers = (airquality[airquality.columns[2:13]] > upper_lim)"
      ],
      "metadata": {
        "colab": {
          "base_uri": "https://localhost:8080/"
        },
        "id": "MSLJq1vjyX8I",
        "outputId": "09656dfd-f4fb-425e-e98a-4ba0378dd45f"
      },
      "execution_count": null,
      "outputs": [
        {
          "output_type": "stream",
          "name": "stdout",
          "text": [
            "      CO(GT)  PT08.S1(CO)  NMHC(GT)   C6H6(GT)  PT08.S2(NMHC)  NOx(GT)  \\\n",
            "0        2.6      1360.00       150  11.881723        1045.50    166.0   \n",
            "1        2.0      1292.25       112   9.397165         954.75    103.0   \n",
            "2        2.2      1402.00        88   8.997817         939.25    131.0   \n",
            "3        2.2      1375.50        80   9.228796         948.25    172.0   \n",
            "4        1.6      1272.25        51   6.518224         835.50    131.0   \n",
            "...      ...          ...       ...        ...            ...      ...   \n",
            "9352     3.1      1314.25      -200  13.529605        1101.25    471.7   \n",
            "9353     2.4      1162.50      -200  11.355157        1027.00    353.3   \n",
            "9354     2.4      1142.00      -200  12.374538        1062.50    293.0   \n",
            "9355     2.1      1002.50      -200   9.547187         960.50    234.5   \n",
            "9356     2.2      1070.75      -200  11.932060        1047.25    265.2   \n",
            "\n",
            "      PT08.S3(NOx)  NO2(GT)  PT08.S4(NO2)  PT08.S5(O3)       T  \n",
            "0          1056.25    113.0       1692.00      1267.50  13.600  \n",
            "1          1173.75     92.0       1558.75       972.25  13.300  \n",
            "2          1140.00    114.0       1554.50      1074.00  11.900  \n",
            "3          1092.00    122.0       1583.75      1203.25  11.000  \n",
            "4          1205.00    116.0       1490.00      1110.00  11.150  \n",
            "...            ...      ...           ...          ...     ...  \n",
            "9352        538.50    189.8       1374.25      1728.50  21.850  \n",
            "9353        603.75    179.2       1263.50      1269.00  24.325  \n",
            "9354        603.25    174.7       1240.75      1092.00  26.900  \n",
            "9355        701.50    155.7       1041.00       769.75  28.325  \n",
            "9356        654.00    167.7       1128.50       816.00  28.500  \n",
            "\n",
            "[9357 rows x 11 columns]\n"
          ]
        }
      ]
    },
    {
      "cell_type": "markdown",
      "source": [
        "Create a dataframe without the outliers"
      ],
      "metadata": {
        "id": "csrtYBaiYa0x"
      }
    },
    {
      "cell_type": "code",
      "source": [
        "cols = list(airquality.columns[2:13])\n",
        "airquality_out_IQR = airquality[~((airquality[cols] < (Q1 - 2 * IQR)) |(airquality[cols] > (Q3 + 2 * IQR))).any(axis=1)]"
      ],
      "metadata": {
        "id": "oWPPPQbbStH0"
      },
      "execution_count": null,
      "outputs": []
    },
    {
      "cell_type": "code",
      "source": [
        "airquality_out_IQR.describe()"
      ],
      "metadata": {
        "colab": {
          "base_uri": "https://localhost:8080/",
          "height": 364
        },
        "id": "sd4UtgcrY6g5",
        "outputId": "55b9717e-c518-491f-926b-10860761e4eb"
      },
      "execution_count": 43,
      "outputs": [
        {
          "output_type": "execute_result",
          "data": {
            "text/plain": [
              "            CO(GT)  PT08.S1(CO)  NMHC(GT)     C6H6(GT)  PT08.S2(NMHC)  \\\n",
              "count  5774.000000  5774.000000    5774.0  5774.000000    5774.000000   \n",
              "mean      2.002061  1089.368419    -200.0     9.760446     935.332785   \n",
              "std       1.193086   189.086617       0.0     6.296377     236.303389   \n",
              "min       0.100000   666.750000    -200.0     0.317473     415.000000   \n",
              "25%       1.100000   946.062500    -200.0     4.823872     754.500000   \n",
              "50%       1.800000  1065.375000    -200.0     8.418919     916.250000   \n",
              "75%       2.700000  1210.687500    -200.0    13.634187    1104.687500   \n",
              "max       6.600000  1819.250000    -200.0    32.888235    1617.250000   \n",
              "\n",
              "           NOx(GT)  PT08.S3(NOx)      NO2(GT)  PT08.S4(NO2)  PT08.S5(O3)  \\\n",
              "count  5774.000000   5774.000000  5774.000000   5774.000000  5774.000000   \n",
              "mean    237.151940    802.279428   112.372861   1418.532516  1022.891467   \n",
              "std     169.534276    212.338838    45.518745    341.944308   363.131779   \n",
              "min       2.000000    345.250000     2.000000    601.000000   261.500000   \n",
              "25%     105.000000    648.250000    78.500000   1164.750000   749.312500   \n",
              "50%     191.700000    778.750000   110.000000   1426.750000   986.500000   \n",
              "75%     333.000000    924.437500   141.300000   1653.437500  1271.750000   \n",
              "max     750.000000   1600.500000   283.200000   2567.750000  2321.000000   \n",
              "\n",
              "                 T           RH           AH  \n",
              "count  5774.000000  5774.000000  5774.000000  \n",
              "mean     18.381079    48.312574     1.014688  \n",
              "std       9.269746    17.690992     0.419562  \n",
              "min      -1.900000     9.175000     0.184679  \n",
              "25%      11.475000    34.474999     0.694303  \n",
              "50%      17.975000    48.299999     1.003171  \n",
              "75%      24.843750    62.025000     1.309444  \n",
              "max      44.600000    88.725000     2.180639  "
            ],
            "text/html": [
              "\n",
              "  <div id=\"df-9409a886-e710-4161-96aa-f1b32648b8e9\">\n",
              "    <div class=\"colab-df-container\">\n",
              "      <div>\n",
              "<style scoped>\n",
              "    .dataframe tbody tr th:only-of-type {\n",
              "        vertical-align: middle;\n",
              "    }\n",
              "\n",
              "    .dataframe tbody tr th {\n",
              "        vertical-align: top;\n",
              "    }\n",
              "\n",
              "    .dataframe thead th {\n",
              "        text-align: right;\n",
              "    }\n",
              "</style>\n",
              "<table border=\"1\" class=\"dataframe\">\n",
              "  <thead>\n",
              "    <tr style=\"text-align: right;\">\n",
              "      <th></th>\n",
              "      <th>CO(GT)</th>\n",
              "      <th>PT08.S1(CO)</th>\n",
              "      <th>NMHC(GT)</th>\n",
              "      <th>C6H6(GT)</th>\n",
              "      <th>PT08.S2(NMHC)</th>\n",
              "      <th>NOx(GT)</th>\n",
              "      <th>PT08.S3(NOx)</th>\n",
              "      <th>NO2(GT)</th>\n",
              "      <th>PT08.S4(NO2)</th>\n",
              "      <th>PT08.S5(O3)</th>\n",
              "      <th>T</th>\n",
              "      <th>RH</th>\n",
              "      <th>AH</th>\n",
              "    </tr>\n",
              "  </thead>\n",
              "  <tbody>\n",
              "    <tr>\n",
              "      <th>count</th>\n",
              "      <td>5774.000000</td>\n",
              "      <td>5774.000000</td>\n",
              "      <td>5774.0</td>\n",
              "      <td>5774.000000</td>\n",
              "      <td>5774.000000</td>\n",
              "      <td>5774.000000</td>\n",
              "      <td>5774.000000</td>\n",
              "      <td>5774.000000</td>\n",
              "      <td>5774.000000</td>\n",
              "      <td>5774.000000</td>\n",
              "      <td>5774.000000</td>\n",
              "      <td>5774.000000</td>\n",
              "      <td>5774.000000</td>\n",
              "    </tr>\n",
              "    <tr>\n",
              "      <th>mean</th>\n",
              "      <td>2.002061</td>\n",
              "      <td>1089.368419</td>\n",
              "      <td>-200.0</td>\n",
              "      <td>9.760446</td>\n",
              "      <td>935.332785</td>\n",
              "      <td>237.151940</td>\n",
              "      <td>802.279428</td>\n",
              "      <td>112.372861</td>\n",
              "      <td>1418.532516</td>\n",
              "      <td>1022.891467</td>\n",
              "      <td>18.381079</td>\n",
              "      <td>48.312574</td>\n",
              "      <td>1.014688</td>\n",
              "    </tr>\n",
              "    <tr>\n",
              "      <th>std</th>\n",
              "      <td>1.193086</td>\n",
              "      <td>189.086617</td>\n",
              "      <td>0.0</td>\n",
              "      <td>6.296377</td>\n",
              "      <td>236.303389</td>\n",
              "      <td>169.534276</td>\n",
              "      <td>212.338838</td>\n",
              "      <td>45.518745</td>\n",
              "      <td>341.944308</td>\n",
              "      <td>363.131779</td>\n",
              "      <td>9.269746</td>\n",
              "      <td>17.690992</td>\n",
              "      <td>0.419562</td>\n",
              "    </tr>\n",
              "    <tr>\n",
              "      <th>min</th>\n",
              "      <td>0.100000</td>\n",
              "      <td>666.750000</td>\n",
              "      <td>-200.0</td>\n",
              "      <td>0.317473</td>\n",
              "      <td>415.000000</td>\n",
              "      <td>2.000000</td>\n",
              "      <td>345.250000</td>\n",
              "      <td>2.000000</td>\n",
              "      <td>601.000000</td>\n",
              "      <td>261.500000</td>\n",
              "      <td>-1.900000</td>\n",
              "      <td>9.175000</td>\n",
              "      <td>0.184679</td>\n",
              "    </tr>\n",
              "    <tr>\n",
              "      <th>25%</th>\n",
              "      <td>1.100000</td>\n",
              "      <td>946.062500</td>\n",
              "      <td>-200.0</td>\n",
              "      <td>4.823872</td>\n",
              "      <td>754.500000</td>\n",
              "      <td>105.000000</td>\n",
              "      <td>648.250000</td>\n",
              "      <td>78.500000</td>\n",
              "      <td>1164.750000</td>\n",
              "      <td>749.312500</td>\n",
              "      <td>11.475000</td>\n",
              "      <td>34.474999</td>\n",
              "      <td>0.694303</td>\n",
              "    </tr>\n",
              "    <tr>\n",
              "      <th>50%</th>\n",
              "      <td>1.800000</td>\n",
              "      <td>1065.375000</td>\n",
              "      <td>-200.0</td>\n",
              "      <td>8.418919</td>\n",
              "      <td>916.250000</td>\n",
              "      <td>191.700000</td>\n",
              "      <td>778.750000</td>\n",
              "      <td>110.000000</td>\n",
              "      <td>1426.750000</td>\n",
              "      <td>986.500000</td>\n",
              "      <td>17.975000</td>\n",
              "      <td>48.299999</td>\n",
              "      <td>1.003171</td>\n",
              "    </tr>\n",
              "    <tr>\n",
              "      <th>75%</th>\n",
              "      <td>2.700000</td>\n",
              "      <td>1210.687500</td>\n",
              "      <td>-200.0</td>\n",
              "      <td>13.634187</td>\n",
              "      <td>1104.687500</td>\n",
              "      <td>333.000000</td>\n",
              "      <td>924.437500</td>\n",
              "      <td>141.300000</td>\n",
              "      <td>1653.437500</td>\n",
              "      <td>1271.750000</td>\n",
              "      <td>24.843750</td>\n",
              "      <td>62.025000</td>\n",
              "      <td>1.309444</td>\n",
              "    </tr>\n",
              "    <tr>\n",
              "      <th>max</th>\n",
              "      <td>6.600000</td>\n",
              "      <td>1819.250000</td>\n",
              "      <td>-200.0</td>\n",
              "      <td>32.888235</td>\n",
              "      <td>1617.250000</td>\n",
              "      <td>750.000000</td>\n",
              "      <td>1600.500000</td>\n",
              "      <td>283.200000</td>\n",
              "      <td>2567.750000</td>\n",
              "      <td>2321.000000</td>\n",
              "      <td>44.600000</td>\n",
              "      <td>88.725000</td>\n",
              "      <td>2.180639</td>\n",
              "    </tr>\n",
              "  </tbody>\n",
              "</table>\n",
              "</div>\n",
              "      <button class=\"colab-df-convert\" onclick=\"convertToInteractive('df-9409a886-e710-4161-96aa-f1b32648b8e9')\"\n",
              "              title=\"Convert this dataframe to an interactive table.\"\n",
              "              style=\"display:none;\">\n",
              "        \n",
              "  <svg xmlns=\"http://www.w3.org/2000/svg\" height=\"24px\"viewBox=\"0 0 24 24\"\n",
              "       width=\"24px\">\n",
              "    <path d=\"M0 0h24v24H0V0z\" fill=\"none\"/>\n",
              "    <path d=\"M18.56 5.44l.94 2.06.94-2.06 2.06-.94-2.06-.94-.94-2.06-.94 2.06-2.06.94zm-11 1L8.5 8.5l.94-2.06 2.06-.94-2.06-.94L8.5 2.5l-.94 2.06-2.06.94zm10 10l.94 2.06.94-2.06 2.06-.94-2.06-.94-.94-2.06-.94 2.06-2.06.94z\"/><path d=\"M17.41 7.96l-1.37-1.37c-.4-.4-.92-.59-1.43-.59-.52 0-1.04.2-1.43.59L10.3 9.45l-7.72 7.72c-.78.78-.78 2.05 0 2.83L4 21.41c.39.39.9.59 1.41.59.51 0 1.02-.2 1.41-.59l7.78-7.78 2.81-2.81c.8-.78.8-2.07 0-2.86zM5.41 20L4 18.59l7.72-7.72 1.47 1.35L5.41 20z\"/>\n",
              "  </svg>\n",
              "      </button>\n",
              "      \n",
              "  <style>\n",
              "    .colab-df-container {\n",
              "      display:flex;\n",
              "      flex-wrap:wrap;\n",
              "      gap: 12px;\n",
              "    }\n",
              "\n",
              "    .colab-df-convert {\n",
              "      background-color: #E8F0FE;\n",
              "      border: none;\n",
              "      border-radius: 50%;\n",
              "      cursor: pointer;\n",
              "      display: none;\n",
              "      fill: #1967D2;\n",
              "      height: 32px;\n",
              "      padding: 0 0 0 0;\n",
              "      width: 32px;\n",
              "    }\n",
              "\n",
              "    .colab-df-convert:hover {\n",
              "      background-color: #E2EBFA;\n",
              "      box-shadow: 0px 1px 2px rgba(60, 64, 67, 0.3), 0px 1px 3px 1px rgba(60, 64, 67, 0.15);\n",
              "      fill: #174EA6;\n",
              "    }\n",
              "\n",
              "    [theme=dark] .colab-df-convert {\n",
              "      background-color: #3B4455;\n",
              "      fill: #D2E3FC;\n",
              "    }\n",
              "\n",
              "    [theme=dark] .colab-df-convert:hover {\n",
              "      background-color: #434B5C;\n",
              "      box-shadow: 0px 1px 3px 1px rgba(0, 0, 0, 0.15);\n",
              "      filter: drop-shadow(0px 1px 2px rgba(0, 0, 0, 0.3));\n",
              "      fill: #FFFFFF;\n",
              "    }\n",
              "  </style>\n",
              "\n",
              "      <script>\n",
              "        const buttonEl =\n",
              "          document.querySelector('#df-9409a886-e710-4161-96aa-f1b32648b8e9 button.colab-df-convert');\n",
              "        buttonEl.style.display =\n",
              "          google.colab.kernel.accessAllowed ? 'block' : 'none';\n",
              "\n",
              "        async function convertToInteractive(key) {\n",
              "          const element = document.querySelector('#df-9409a886-e710-4161-96aa-f1b32648b8e9');\n",
              "          const dataTable =\n",
              "            await google.colab.kernel.invokeFunction('convertToInteractive',\n",
              "                                                     [key], {});\n",
              "          if (!dataTable) return;\n",
              "\n",
              "          const docLinkHtml = 'Like what you see? Visit the ' +\n",
              "            '<a target=\"_blank\" href=https://colab.research.google.com/notebooks/data_table.ipynb>data table notebook</a>'\n",
              "            + ' to learn more about interactive tables.';\n",
              "          element.innerHTML = '';\n",
              "          dataTable['output_type'] = 'display_data';\n",
              "          await google.colab.output.renderOutput(dataTable, element);\n",
              "          const docLink = document.createElement('div');\n",
              "          docLink.innerHTML = docLinkHtml;\n",
              "          element.appendChild(docLink);\n",
              "        }\n",
              "      </script>\n",
              "    </div>\n",
              "  </div>\n",
              "  "
            ]
          },
          "metadata": {},
          "execution_count": 43
        }
      ]
    },
    {
      "cell_type": "markdown",
      "source": [
        "d. Histograms for the dataset without the outliers"
      ],
      "metadata": {
        "id": "pHxI1iJnYeYJ"
      }
    },
    {
      "cell_type": "code",
      "source": [
        "airquality_out_IQR_hist=airquality_out_IQR.hist()"
      ],
      "metadata": {
        "colab": {
          "base_uri": "https://localhost:8080/",
          "height": 281
        },
        "id": "KDnLQp7yTHG5",
        "outputId": "232ece8c-322b-4106-98ff-69581732baed"
      },
      "execution_count": null,
      "outputs": [
        {
          "output_type": "display_data",
          "data": {
            "text/plain": [
              "<Figure size 432x288 with 16 Axes>"
            ],
            "image/png": "[encoded data removed]"
          },
          "metadata": {
            "needs_background": "light"
          }
        }
      ]
    },
    {
      "cell_type": "markdown",
      "source": [
        "2.3 Conceptual Questions [20 Points]\n",
        "Answer the following questions about the analysis you just performed. Include the answers\n",
        "to this questions as text content (using markdown or text cells on Jupyter notebook) in the\n",
        "same notebook file used for visualization.\n",
        "1. From the histograms, what abnormality can you see?\n",
        "**ANSWER** : From the histograms, feature C6H6 is left-skewed and NHMC is right-skewed. Additionally, features like CO, T, AH, RH seem to have extreme values as they have a gap and are separated by at least 2 classes. \n",
        "2. What abnormality can you see from the summary statistics?\n",
        "**ANSWER** : Extreme values could be seen in the summary statistics. \n",
        "3. How can you remove the abnormality from the data?\n",
        "**ANSWER **: There are several techniques to remove abnormalities. Most common one is IQR. The IQR is a technique that describes the spread of all data points within the middle 50 percent range. Then using the IQR to remove outliers you remove all points that lie outside the range defined by the quartiles +/- 1.5 * IQR. \n",
        "4. Show how the histograms look after removing the abnormalities from the data?\n",
        "**ANSWER** : "
      ],
      "metadata": {
        "id": "aYraiBdkMhkX"
      }
    },
    {
      "cell_type": "code",
      "source": [
        "airquality_out_IQR_hist=airquality_out_IQR.hist()"
      ],
      "metadata": {
        "colab": {
          "base_uri": "https://localhost:8080/",
          "height": 281
        },
        "id": "yHKl5P5fiH3n",
        "outputId": "7447a4b2-6119-4b49-8b09-8688f86b2d65"
      },
      "execution_count": 44,
      "outputs": [
        {
          "output_type": "display_data",
          "data": {
            "text/plain": [
              "<Figure size 432x288 with 16 Axes>"
            ],
            "image/png": "[encoded data removed]"
          },
          "metadata": {
            "needs_background": "light"
          }
        }
      ]
    }
  ]
}